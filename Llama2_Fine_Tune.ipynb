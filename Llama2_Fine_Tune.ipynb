{
  "metadata": {
    "kernelspec": {
      "language": "python",
      "display_name": "Python 3",
      "name": "python3"
    },
    "language_info": {
      "name": "python",
      "version": "3.10.13",
      "mimetype": "text/x-python",
      "codemirror_mode": {
        "name": "ipython",
        "version": 3
      },
      "pygments_lexer": "ipython3",
      "nbconvert_exporter": "python",
      "file_extension": ".py"
    },
    "kaggle": {
      "accelerator": "gpu",
      "dataSources": [
        {
          "sourceId": 8008863,
          "sourceType": "datasetVersion",
          "datasetId": 4717182
        },
        {
          "sourceId": 8103215,
          "sourceType": "datasetVersion",
          "datasetId": 4785613
        },
        {
          "sourceId": 4298,
          "sourceType": "modelInstanceVersion",
          "modelInstanceId": 3093,
          "modelId": 735
        }
      ],
      "dockerImageVersionId": 30674,
      "isInternetEnabled": true,
      "language": "python",
      "sourceType": "notebook",
      "isGpuEnabled": true
    },
    "colab": {
      "provenance": []
    }
  },
  "nbformat_minor": 0,
  "nbformat": 4,
  "cells": [
    {
      "cell_type": "code",
      "source": [
        "# This Python 3 environment comes with many helpful analytics libraries installed\n",
        "# It is defined by the kaggle/python Docker image: https://github.com/kaggle/docker-python\n",
        "# For example, here's several helpful packages to load\n",
        "\n",
        "import numpy as np # linear algebra\n",
        "import pandas as pd # data processing, CSV file I/O (e.g. pd.read_csv)\n",
        "\n",
        "# Input data files are available in the read-only \"../input/\" directory\n",
        "# For example, running this (by clicking run or pressing Shift+Enter) will list all files under the input directory\n",
        "\n",
        "import os\n",
        "for dirname, _, filenames in os.walk('/kaggle/input'):\n",
        "    for filename in filenames:\n",
        "        print(os.path.join(dirname, filename))\n",
        "\n",
        "# You can write up to 20GB to the current directory (/kaggle/working/) that gets preserved as output when you create a version using \"Save & Run All\"\n",
        "# You can also write temporary files to /kaggle/temp/, but they won't be saved outside of the current session"
      ],
      "metadata": {
        "_uuid": "8f2839f25d086af736a60e9eeb907d3b93b6e0e5",
        "_cell_guid": "b1076dfc-b9ad-4769-8c92-a6c4dae69d19",
        "execution": {
          "iopub.status.busy": "2024-04-12T17:18:42.635833Z",
          "iopub.execute_input": "2024-04-12T17:18:42.636254Z",
          "iopub.status.idle": "2024-04-12T17:18:42.997104Z",
          "shell.execute_reply.started": "2024-04-12T17:18:42.636203Z",
          "shell.execute_reply": "2024-04-12T17:18:42.996113Z"
        },
        "trusted": true,
        "id": "VeT56_qcJ3QX",
        "outputId": "3c693b9f-dfb4-4e3f-eee1-5e1c5ec7c3ff"
      },
      "execution_count": null,
      "outputs": [
        {
          "name": "stdout",
          "text": "/kaggle/input/llama-2/pytorch/7b-chat-hf/1/model.safetensors.index.json\n/kaggle/input/llama-2/pytorch/7b-chat-hf/1/config.json\n/kaggle/input/llama-2/pytorch/7b-chat-hf/1/model-00001-of-00002.safetensors\n/kaggle/input/llama-2/pytorch/7b-chat-hf/1/model-00002-of-00002.safetensors\n/kaggle/input/llama-2/pytorch/7b-chat-hf/1/pytorch_model-00002-of-00002.bin\n/kaggle/input/llama-2/pytorch/7b-chat-hf/1/README.md\n/kaggle/input/llama-2/pytorch/7b-chat-hf/1/USE_POLICY.md\n/kaggle/input/llama-2/pytorch/7b-chat-hf/1/tokenizer.json\n/kaggle/input/llama-2/pytorch/7b-chat-hf/1/tokenizer_config.json\n/kaggle/input/llama-2/pytorch/7b-chat-hf/1/pytorch_model.bin.index.json\n/kaggle/input/llama-2/pytorch/7b-chat-hf/1/LICENSE.txt\n/kaggle/input/llama-2/pytorch/7b-chat-hf/1/pytorch_model-00001-of-00002.bin\n/kaggle/input/llama-2/pytorch/7b-chat-hf/1/special_tokens_map.json\n/kaggle/input/llama-2/pytorch/7b-chat-hf/1/.gitattributes\n/kaggle/input/llama-2/pytorch/7b-chat-hf/1/tokenizer.model\n/kaggle/input/llama-2/pytorch/7b-chat-hf/1/added_tokens.json\n/kaggle/input/llama-2/pytorch/7b-chat-hf/1/generation_config.json\n/kaggle/input/finance-bench-dataset/10_labels.csv\n/kaggle/input/finance-bench-dataset/syntheses_10.csv\n",
          "output_type": "stream"
        }
      ]
    },
    {
      "cell_type": "code",
      "source": [
        "import torch\n",
        "from torch import cuda\n",
        "import time\n",
        "import pandas as pd\n",
        "import numpy as np\n",
        "import random"
      ],
      "metadata": {
        "execution": {
          "iopub.status.busy": "2024-04-12T17:18:42.998692Z",
          "iopub.execute_input": "2024-04-12T17:18:42.999093Z",
          "iopub.status.idle": "2024-04-12T17:18:44.744730Z",
          "shell.execute_reply.started": "2024-04-12T17:18:42.999065Z",
          "shell.execute_reply": "2024-04-12T17:18:44.743745Z"
        },
        "trusted": true,
        "id": "zuchaWyrJ3QY"
      },
      "execution_count": null,
      "outputs": []
    },
    {
      "cell_type": "code",
      "source": [
        "!pip install -q -U bitsandbytes==0.42.0\n",
        "!pip install -q -U peft==0.8.2\n",
        "!pip install -q -U accelerate==0.27.1\n",
        "!pip install -q -U transformers==4.38.0"
      ],
      "metadata": {
        "execution": {
          "iopub.status.busy": "2024-04-12T17:18:44.746225Z",
          "iopub.execute_input": "2024-04-12T17:18:44.746597Z",
          "iopub.status.idle": "2024-04-12T17:19:34.709021Z",
          "shell.execute_reply.started": "2024-04-12T17:18:44.746572Z",
          "shell.execute_reply": "2024-04-12T17:19:34.707703Z"
        },
        "trusted": true,
        "id": "tc5TA7HRJ3QY"
      },
      "execution_count": null,
      "outputs": []
    },
    {
      "cell_type": "code",
      "source": [
        "!pip install pyarrow==11.0.0"
      ],
      "metadata": {
        "trusted": true,
        "id": "Fk6bUP79J3QZ"
      },
      "execution_count": null,
      "outputs": []
    },
    {
      "cell_type": "code",
      "source": [
        "import torch\n",
        "from transformers import AutoTokenizer, AutoModelForCausalLM, BitsAndBytesConfig\n",
        "import transformers\n",
        "\n",
        "model_id = '/kaggle/input/llama-2/pytorch/7b-chat-hf/1'\n",
        "\n",
        "device = f'cuda:{cuda.current_device()}' if cuda.is_available() else 'cpu'\n",
        "\n",
        "bnb_config = BitsAndBytesConfig(\n",
        "    load_in_4bit=True,\n",
        "    bnb_4bit_use_double_quant=True,\n",
        "    bnb_4bit_quant_type=\"nf4\",\n",
        "    bnb_4bit_compute_dtype=torch.bfloat16\n",
        ")\n",
        "\n",
        "model = AutoModelForCausalLM.from_pretrained(model_id, quantization_config=bnb_config, device_map=\"auto\")\n",
        "\n",
        "tokenizer = AutoTokenizer.from_pretrained(model_id)\n",
        "tokenizer.pad_token = tokenizer.eos_token\n",
        "tokenizer.padding_side = \"right\"\n",
        "\n",
        "print(f\"Model loaded on {device}\")"
      ],
      "metadata": {
        "trusted": true,
        "id": "UVcMKXkzJ3QZ"
      },
      "execution_count": null,
      "outputs": []
    },
    {
      "cell_type": "code",
      "source": [
        "!pip install -q -U trl"
      ],
      "metadata": {
        "trusted": true,
        "id": "pStO3Y3dJ3QZ"
      },
      "execution_count": null,
      "outputs": []
    },
    {
      "cell_type": "code",
      "source": [
        "from trl import SFTTrainer"
      ],
      "metadata": {
        "trusted": true,
        "id": "AgC_fTFJJ3QZ"
      },
      "execution_count": null,
      "outputs": []
    },
    {
      "cell_type": "markdown",
      "source": [
        "# Dataset Loading & Preprocessing"
      ],
      "metadata": {
        "id": "AQqXO8scJ3QZ"
      }
    },
    {
      "cell_type": "code",
      "source": [
        "file_path_1 = \"/kaggle/input/finance-bench-dataset/10_labels.csv\"\n",
        "file_path_2 = \"/kaggle/input/finance-bench-dataset/syntheses_10.csv\"\n",
        "Model_Generated_Data = pd.read_csv(file_path_1)\n",
        "Finance_data = pd.read_csv(file_path_2)\n",
        "print(Finance_data.head())"
      ],
      "metadata": {
        "trusted": true,
        "id": "MF40dWunJ3Qa"
      },
      "execution_count": null,
      "outputs": []
    },
    {
      "cell_type": "code",
      "source": [
        "# Reduce Finance_data to the first 50 rows\n",
        "Finance_Reduced_Test = Finance_data.head(50)\n",
        "Finance_Reduced_Train = Finance_data.tail(100)\n",
        "# Print the reduced DataFrame to verify\n",
        "print(len(Finance_Reduced_Train))\n",
        "print(len(Finance_Reduced_Test))"
      ],
      "metadata": {
        "trusted": true,
        "id": "cBgzp0NpJ3Qa"
      },
      "execution_count": null,
      "outputs": []
    },
    {
      "cell_type": "code",
      "source": [
        "Finance_Reduced_Train.drop('syntheses', axis=1, inplace=True)\n",
        "Finance_Reduced_Train.columns"
      ],
      "metadata": {
        "trusted": true,
        "id": "uwPKoXwQJ3Qa"
      },
      "execution_count": null,
      "outputs": []
    },
    {
      "cell_type": "code",
      "source": [
        "Finance_Reduced_Train_Reduced_80 = Finance_Reduced_Train.head(80)\n",
        "Validation_20 = Finance_Reduced_Train.tail(20)\n",
        "len(Finance_Reduced_Train_Reduced_80)\n",
        "len(Validation_20)"
      ],
      "metadata": {
        "trusted": true,
        "id": "6Wba0bocJ3Qa"
      },
      "execution_count": null,
      "outputs": []
    },
    {
      "cell_type": "markdown",
      "source": [
        "# Fine Tuning For 80 Training Data and 20 Validation Data"
      ],
      "metadata": {
        "id": "5L_0HV7mJ3Qb"
      }
    },
    {
      "cell_type": "code",
      "source": [
        "import pandas as pd\n",
        "from datasets import Dataset\n",
        "\n",
        "\n",
        "prompts = []\n",
        "for idx, row in Finance_Reduced_Train_Reduced_80.iterrows():\n",
        "    question = row['question']\n",
        "    answer = row['answer']\n",
        "    evidence_text = row['evidence_text']  # Assuming you have access to this column\n",
        "\n",
        "    SYSTEM_PROMPT = \"\"\"You are a financial chatbot trained to answer questions based on the information provided.\n",
        "Your responses should be directly sourced from the content of these evidence_text(context).\n",
        "When asked a question, ensure that your answer is explicitly supported by the text and do not\n",
        "include any external information, interpretations, or assumptions not clearly stated in the evidence_text(context).\n",
        "If a question pertains to financial data or analysis that is not explicitly covered in the evidence_text(context) provided,\n",
        "respond by stating that the information is not available in the evidence_text(context).\n",
        "Your primary focus should be on accuracy, specificity, and adherence to the information in the evidence_text(context),\n",
        "particularly regarding financial statements, company performance, and market positions.\"\"\"\n",
        "\n",
        "    prompt = f\"<s>[INST]\\n<<SYS>>\\n{SYSTEM_PROMPT}\\n<</SYS>>\\n{question}\\n{evidence_text}\\n[/INST]\\n{answer}\\n</s>\"\n",
        "    prompts.append(prompt)\n",
        "\n",
        "dataset = Dataset.from_pandas(pd.DataFrame({'text': prompts}))\n",
        "dataset\n"
      ],
      "metadata": {
        "trusted": true,
        "id": "vdUNyn9XJ3Qb"
      },
      "execution_count": null,
      "outputs": []
    },
    {
      "cell_type": "code",
      "source": [
        "prompts = []\n",
        "for idx, row in Validation_20.iterrows():\n",
        "    question = row['question']\n",
        "    answer = row['answer']\n",
        "    evidence_text = row['evidence_text']  # Assuming you have access to this column\n",
        "\n",
        "    SYSTEM_PROMPT = \"\"\"You are a financial chatbot trained to answer questions based on the information provided.\n",
        "Your responses should be directly sourced from the content of these evidence_text(context).\n",
        "When asked a question, ensure that your answer is explicitly supported by the text and do not\n",
        "include any external information, interpretations, or assumptions not clearly stated in the evidence_text(context).\n",
        "If a question pertains to financial data or analysis that is not explicitly covered in the evidence_text(context) provided,\n",
        "respond by stating that the information is not available in the evidence_text(context).\n",
        "Your primary focus should be on accuracy, specificity, and adherence to the information in the evidence_text(context),\n",
        "particularly regarding financial statements, company performance, and market positions.\"\"\"\n",
        "\n",
        "    prompt = f\"<s>[INST]\\n<<SYS>>\\n{SYSTEM_PROMPT}\\n<</SYS>>\\n{question}\\n{evidence_text}\\n[/INST]\\n{answer}\\n</s>\"\n",
        "    prompts.append(prompt)\n",
        "\n",
        "eval_dataset = Dataset.from_pandas(pd.DataFrame({'text': prompts}))\n",
        "eval_dataset\n"
      ],
      "metadata": {
        "trusted": true,
        "id": "QcLGr31yJ3Qb"
      },
      "execution_count": null,
      "outputs": []
    },
    {
      "cell_type": "code",
      "source": [
        "def print_trainable_parameters(model):\n",
        "    \"\"\"\n",
        "    Prints the number of trainable parameters in the model.\n",
        "    \"\"\"\n",
        "    trainable_params = 0\n",
        "    all_param = 0\n",
        "    for _, param in model.named_parameters():\n",
        "\n",
        "        all_param += param.numel()\n",
        "        if param.requires_grad:\n",
        "            trainable_params += param.numel()\n",
        "    print(\n",
        "        f\"trainable params: {trainable_params} || all params: {all_param} || trainable%: {100 * trainable_params / all_param}\"\n",
        "    )"
      ],
      "metadata": {
        "trusted": true,
        "id": "wLXNICVgJ3Qb"
      },
      "execution_count": null,
      "outputs": []
    },
    {
      "cell_type": "code",
      "source": [
        "from peft import prepare_model_for_kbit_training\n",
        "\n",
        "model.gradient_checkpointing_enable()\n",
        "model = prepare_model_for_kbit_training(model)\n",
        "\n",
        "print(model)"
      ],
      "metadata": {
        "trusted": true,
        "id": "U7bo47CBJ3Qb"
      },
      "execution_count": null,
      "outputs": []
    },
    {
      "cell_type": "code",
      "source": [
        "from peft import LoraConfig, get_peft_model\n",
        "\n",
        "lora_config = LoraConfig(\n",
        "    r=16,\n",
        "    lora_alpha=64,\n",
        "    # target_modules=[\"query_key_value\"],\n",
        "    target_modules=[\"q_proj\", \"k_proj\", \"v_proj\", \"o_proj\"], #specific to Llama models.\n",
        "    lora_dropout=0.1,\n",
        "    bias=\"none\",\n",
        "    task_type=\"CAUSAL_LM\"\n",
        ")\n",
        "\n",
        "model = get_peft_model(model, lora_config)\n",
        "print_trainable_parameters(model)"
      ],
      "metadata": {
        "trusted": true,
        "id": "C1YO_8xWJ3Qb"
      },
      "execution_count": null,
      "outputs": []
    },
    {
      "cell_type": "code",
      "source": [
        "from huggingface_hub import notebook_login\n",
        "\n",
        "notebook_login()"
      ],
      "metadata": {
        "trusted": true,
        "id": "dtjSC_1zJ3Qb"
      },
      "execution_count": null,
      "outputs": []
    },
    {
      "cell_type": "markdown",
      "source": [
        "### For 5 Epoches"
      ],
      "metadata": {
        "id": "LTwixFLfJ3Qb"
      }
    },
    {
      "cell_type": "code",
      "source": [
        "from transformers import TrainingArguments\n",
        "\n",
        "training_arguments = TrainingArguments(\n",
        "    \"Fine_Tuned_LLama2_5_Epoch\",\n",
        "    per_device_train_batch_size=4,\n",
        "    gradient_accumulation_steps=4,\n",
        "    optim=\"paged_adamw_32bit\",\n",
        "    logging_steps=1,\n",
        "    learning_rate=2e-5,\n",
        "    fp16=True,\n",
        "    weight_decay=0.01,\n",
        "    max_grad_norm=0.3,\n",
        "    num_train_epochs=5,\n",
        "    evaluation_strategy=\"steps\",\n",
        "    eval_steps=0.2,\n",
        "    warmup_ratio=0.05,\n",
        "    save_strategy=\"epoch\",\n",
        "    group_by_length=True,\n",
        "    lr_scheduler_type=\"cosine\",\n",
        "    seed=42,\n",
        "    push_to_hub=True,\n",
        ")\n",
        "model.config.use_cache = False  # silence the warnings. Please re-enable for inference!"
      ],
      "metadata": {
        "trusted": true,
        "id": "RiwWs9a0J3Qc"
      },
      "execution_count": null,
      "outputs": []
    },
    {
      "cell_type": "code",
      "source": [
        "trainer = SFTTrainer(\n",
        "    model=model,\n",
        "    train_dataset=dataset,\n",
        "    eval_dataset=eval_dataset,\n",
        "    peft_config=lora_config,\n",
        "    dataset_text_field=\"text\",\n",
        "    max_seq_length=100,\n",
        "    tokenizer=tokenizer,\n",
        "    args=training_arguments,\n",
        ")\n",
        "\n",
        "Fine_tuned_LLama2_5_Epoch = trainer.train()\n"
      ],
      "metadata": {
        "trusted": true,
        "id": "ZB9kYhiIJ3Qc"
      },
      "execution_count": null,
      "outputs": []
    },
    {
      "cell_type": "markdown",
      "source": [
        "### For 10 Epoches"
      ],
      "metadata": {
        "id": "8QfH2HILJ3Qc"
      }
    },
    {
      "cell_type": "code",
      "source": [
        "from transformers import TrainingArguments\n",
        "\n",
        "training_arguments = TrainingArguments(\n",
        "    \"Fine_Tuned_LLama2_10_Epoch\",\n",
        "    per_device_train_batch_size=4,\n",
        "    gradient_accumulation_steps=4,\n",
        "    optim=\"paged_adamw_32bit\",\n",
        "    logging_steps=1,\n",
        "    learning_rate=2e-5,\n",
        "    fp16=True,\n",
        "    weight_decay=0.01,\n",
        "    max_grad_norm=0.3,\n",
        "    num_train_epochs=5,\n",
        "    evaluation_strategy=\"steps\",\n",
        "    eval_steps=0.2,\n",
        "    warmup_ratio=0.05,\n",
        "    save_strategy=\"epoch\",\n",
        "    group_by_length=True,\n",
        "    lr_scheduler_type=\"cosine\",\n",
        "    seed=42,\n",
        "    push_to_hub=True,\n",
        ")\n",
        "model.config.use_cache = False  # silence the warnings. Please re-enable for inference!"
      ],
      "metadata": {
        "trusted": true,
        "id": "owy-iCLmJ3Qc"
      },
      "execution_count": null,
      "outputs": []
    },
    {
      "cell_type": "code",
      "source": [
        "trainer = SFTTrainer(\n",
        "    model=model,\n",
        "    train_dataset=dataset,\n",
        "    eval_dataset=eval_dataset,\n",
        "    peft_config=lora_config,\n",
        "    dataset_text_field=\"text\",\n",
        "    max_seq_length=100,\n",
        "    tokenizer=tokenizer,\n",
        "    args=training_arguments,\n",
        ")\n",
        "\n",
        "Fine_tuned_80_10_Epoch = trainer.train()\n"
      ],
      "metadata": {
        "trusted": true,
        "id": "Cliw4kcUJ3Qc"
      },
      "execution_count": null,
      "outputs": []
    },
    {
      "cell_type": "markdown",
      "source": [
        "### Fine Tuning for 15 Epoches"
      ],
      "metadata": {
        "id": "tqS81l_pJ3Qc"
      }
    },
    {
      "cell_type": "code",
      "source": [
        "from transformers import TrainingArguments\n",
        "\n",
        "training_arguments = TrainingArguments(\n",
        "    \"Fine_Tuned_LLama2_15_Epoch\",\n",
        "    per_device_train_batch_size=4,\n",
        "    gradient_accumulation_steps=4,\n",
        "    optim=\"paged_adamw_32bit\",\n",
        "    logging_steps=1,\n",
        "    learning_rate=2e-5,\n",
        "    fp16=True,\n",
        "    weight_decay=0.01,\n",
        "    max_grad_norm=0.3,\n",
        "    num_train_epochs=5,\n",
        "    evaluation_strategy=\"steps\",\n",
        "    eval_steps=0.2,\n",
        "    warmup_ratio=0.05,\n",
        "    save_strategy=\"epoch\",\n",
        "    group_by_length=True,\n",
        "    lr_scheduler_type=\"cosine\",\n",
        "    seed=42,\n",
        "    push_to_hub=True,\n",
        ")\n",
        "model.config.use_cache = False  # silence the warnings. Please re-enable for inference!"
      ],
      "metadata": {
        "trusted": true,
        "id": "79NRHFyTJ3Qc"
      },
      "execution_count": null,
      "outputs": []
    },
    {
      "cell_type": "code",
      "source": [
        "trainer = SFTTrainer(\n",
        "    model=model,\n",
        "    train_dataset=dataset,\n",
        "    eval_dataset=eval_dataset,\n",
        "    peft_config=lora_config,\n",
        "    dataset_text_field=\"text\",\n",
        "    max_seq_length=100,\n",
        "    tokenizer=tokenizer,\n",
        "    args=training_arguments,\n",
        ")\n",
        "\n",
        "Fine_tuned_80_15_Epoch = trainer.train()\n"
      ],
      "metadata": {
        "trusted": true,
        "id": "bCbXs6qIJ3Qc"
      },
      "execution_count": null,
      "outputs": []
    },
    {
      "cell_type": "markdown",
      "source": [
        "# Prediction"
      ],
      "metadata": {
        "id": "TXEIcBDFJ3Qc"
      }
    },
    {
      "cell_type": "code",
      "source": [
        "import torch\n",
        "from transformers import AutoTokenizer, AutoModelForCausalLM, BitsAndBytesConfig\n",
        "import transformers\n",
        "\n",
        "model_id_1 = '/kaggle/working/Fine_Tuned_LLama2_5_Epoch'\n",
        "model_id_2 = '/kaggle/working/Fine_Tuned_LLama2_10_Epoch'\n",
        "model_id_3 = '/kaggle/working/Fine_Tuned_LLama2_15_Epoch'\n",
        "\n",
        "#device = f'cuda:{cuda.current_device()}' if cuda.is_available() else 'cpu'\n",
        "\n",
        "bnb_config = BitsAndBytesConfig(\n",
        "    load_in_4bit=True,\n",
        "    bnb_4bit_use_double_quant=True,\n",
        "    bnb_4bit_quant_type=\"nf4\",\n",
        "    bnb_4bit_compute_dtype=torch.bfloat16\n",
        ")\n",
        "\n",
        "# fine_tuned_80_5_Epoch = AutoModelForCausalLM.from_pretrained(model_id_1, quantization_config=bnb_config, device_map=\"auto\")\n",
        "# tokenizer_1 = AutoTokenizer.from_pretrained(model_id_1)\n",
        "# tokenizer_1.pad_token = tokenizer_1.eos_token\n",
        "# tokenizer_1.padding_side = \"right\"\n",
        "\n",
        "# fine_tuned_80_10_Epoch = AutoModelForCausalLM.from_pretrained(model_id_2, quantization_config=bnb_config, device_map=\"auto\")\n",
        "# tokenizer_2 = AutoTokenizer.from_pretrained(model_id_2)\n",
        "# tokenizer_2.pad_token = tokenizer_2.eos_token\n",
        "# tokenizer_2.padding_side = \"right\"\n",
        "\n",
        "fine_tuned_80_15_Epoch = AutoModelForCausalLM.from_pretrained(model_id_3, quantization_config=bnb_config, device_map=\"auto\")\n",
        "tokenizer_3 = AutoTokenizer.from_pretrained(model_id_3)\n",
        "tokenizer_3.pad_token = tokenizer_3.eos_token\n",
        "tokenizer_3.padding_side = \"right\""
      ],
      "metadata": {
        "execution": {
          "iopub.status.busy": "2024-04-12T17:19:34.711478Z",
          "iopub.execute_input": "2024-04-12T17:19:34.712381Z",
          "iopub.status.idle": "2024-04-12T17:19:43.090967Z",
          "shell.execute_reply.started": "2024-04-12T17:19:34.712342Z",
          "shell.execute_reply": "2024-04-12T17:19:43.090115Z"
        },
        "trusted": true,
        "colab": {
          "referenced_widgets": [
            "a75ca0bc401549e3a7aa020d81c755ea"
          ]
        },
        "id": "1kagh3fwJ3Qd",
        "outputId": "e6aaeb25-2b2b-421a-a51a-018d81cd4d84"
      },
      "execution_count": null,
      "outputs": [
        {
          "output_type": "display_data",
          "data": {
            "text/plain": "Loading checkpoint shards:   0%|          | 0/2 [00:00<?, ?it/s]",
            "application/vnd.jupyter.widget-view+json": {
              "version_major": 2,
              "version_minor": 0,
              "model_id": "a75ca0bc401549e3a7aa020d81c755ea"
            }
          },
          "metadata": {}
        },
        {
          "name": "stderr",
          "text": "/opt/conda/lib/python3.10/site-packages/transformers/generation/configuration_utils.py:410: UserWarning: `do_sample` is set to `False`. However, `temperature` is set to `0.9` -- this flag is only used in sample-based generation modes. You should set `do_sample=True` or unset `temperature`. This was detected when initializing the generation config instance, which means the corresponding file may hold incorrect parameterization and should be fixed.\n  warnings.warn(\n/opt/conda/lib/python3.10/site-packages/transformers/generation/configuration_utils.py:415: UserWarning: `do_sample` is set to `False`. However, `top_p` is set to `0.6` -- this flag is only used in sample-based generation modes. You should set `do_sample=True` or unset `top_p`. This was detected when initializing the generation config instance, which means the corresponding file may hold incorrect parameterization and should be fixed.\n  warnings.warn(\n/opt/conda/lib/python3.10/site-packages/transformers/generation/configuration_utils.py:410: UserWarning: `do_sample` is set to `False`. However, `temperature` is set to `0.9` -- this flag is only used in sample-based generation modes. You should set `do_sample=True` or unset `temperature`.\n  warnings.warn(\n/opt/conda/lib/python3.10/site-packages/transformers/generation/configuration_utils.py:415: UserWarning: `do_sample` is set to `False`. However, `top_p` is set to `0.6` -- this flag is only used in sample-based generation modes. You should set `do_sample=True` or unset `top_p`.\n  warnings.warn(\n",
          "output_type": "stream"
        }
      ]
    },
    {
      "cell_type": "code",
      "source": [
        "# del fine_tuned_80_5_Epoch"
      ],
      "metadata": {
        "trusted": true,
        "id": "o0cV69IfJ3Qd"
      },
      "execution_count": null,
      "outputs": []
    },
    {
      "cell_type": "code",
      "source": [
        "# tokenizer = AutoTokenizer.from_pretrained(model_id)"
      ],
      "metadata": {
        "trusted": true,
        "id": "XDetPmHEJ3Qd"
      },
      "execution_count": null,
      "outputs": []
    },
    {
      "cell_type": "code",
      "source": [
        "# import pandas as pd\n",
        "\n",
        "# file_path_1 = \"/kaggle/input/finance-bench-dataset/10_labels.csv\"\n",
        "# file_path_2 = \"/kaggle/input/finance-bench-dataset/syntheses_10.csv\"\n",
        "# Model_Generated_Data = pd.read_csv(file_path_1)\n",
        "# Finance_data = pd.read_csv(file_path_2)\n",
        "# print(Finance_data.head())"
      ],
      "metadata": {
        "trusted": true,
        "id": "piZYNtijJ3Qd"
      },
      "execution_count": null,
      "outputs": []
    },
    {
      "cell_type": "code",
      "source": [
        "# # Reduce Finance_data to the first 50 rows\n",
        "# Finance_Reduced_Validation = Finance_data.head(50)\n",
        "# Finance_Reduced_Train = Finance_data.tail(100)\n",
        "# # Print the reduced DataFrame to verify\n",
        "# print(len(Finance_Reduced_Train))\n",
        "# print(len(Finance_Reduced_Validation))"
      ],
      "metadata": {
        "trusted": true,
        "id": "DVGJLkBIJ3Qd"
      },
      "execution_count": null,
      "outputs": []
    },
    {
      "cell_type": "code",
      "source": [
        "import pandas as pd\n",
        "\n",
        "file_path_2 = \"/kaggle/input/finance-bench-dataset/syntheses_10.csv\"\n",
        "Finance_data = pd.read_csv(file_path_2)\n",
        "print(Finance_data.head())"
      ],
      "metadata": {
        "execution": {
          "iopub.status.busy": "2024-04-12T17:20:20.713555Z",
          "iopub.execute_input": "2024-04-12T17:20:20.714548Z",
          "iopub.status.idle": "2024-04-12T17:20:20.737211Z",
          "shell.execute_reply.started": "2024-04-12T17:20:20.714516Z",
          "shell.execute_reply": "2024-04-12T17:20:20.736243Z"
        },
        "trusted": true,
        "id": "w1sZIuAuJ3Qd",
        "outputId": "f3c0491b-a910-488e-e30c-6b01999b2c12"
      },
      "execution_count": null,
      "outputs": [
        {
          "name": "stdout",
          "text": "                                            question  \\\n0  What is the FY2018 capital expenditure amount ...   \n1  Assume that you are a public equities analyst....   \n2  Is 3M a capital-intensive business based on FY...   \n3  What drove operating margin change as of FY202...   \n4  If we exclude the impact of M&A, which segment...   \n\n                                              answer  \\\n0                                           $1577.00   \n1                                              $8.70   \n2  No, the company is managing its CAPEX and Fixe...   \n3  Operating Margin for 3M in FY2022 has decrease...   \n4   The consumer segment shrunk by 0.9% organically.   \n\n                                       evidence_text  \\\n0  Table of Contents \\n3M Company and Subsidiarie...   \n1  Table of Contents \\n3M Company and Subsidiarie...   \n2  3M Company and Subsidiaries\\n Consolidated Sta...   \n3  SG&A, measured as a percent of sales, increase...   \n4  Worldwide Sales Change\\nBy Business Segment Or...   \n\n                                           syntheses  \n0                          <answer> $1,577 </answer>  \n1                          <answer> $8.738 </answer>  \n2   <answer> No, 3M does not seem to be a capital...  \n3   <answer> Operating Margin for 3M in FY2022 ha...  \n4   <answer> The consumer segment shrunk by 0.9% ...  \n",
          "output_type": "stream"
        }
      ]
    },
    {
      "cell_type": "code",
      "source": [
        "Finance_data.drop('syntheses', axis=1, inplace=True)\n",
        "Finance_data.columns"
      ],
      "metadata": {
        "execution": {
          "iopub.status.busy": "2024-04-12T17:20:20.890635Z",
          "iopub.execute_input": "2024-04-12T17:20:20.890958Z",
          "iopub.status.idle": "2024-04-12T17:20:20.898981Z",
          "shell.execute_reply.started": "2024-04-12T17:20:20.890926Z",
          "shell.execute_reply": "2024-04-12T17:20:20.897945Z"
        },
        "trusted": true,
        "id": "30g-eC7nJ3Qe",
        "outputId": "f7fa7552-8af9-4a6c-b919-f652366ecfea"
      },
      "execution_count": null,
      "outputs": [
        {
          "execution_count": 6,
          "output_type": "execute_result",
          "data": {
            "text/plain": "Index(['question', 'answer', 'evidence_text'], dtype='object')"
          },
          "metadata": {}
        }
      ]
    },
    {
      "cell_type": "code",
      "source": [
        "Finance_Reduced_Test= Finance_data.head(50)\n",
        "len(Finance_Reduced_Test)"
      ],
      "metadata": {
        "execution": {
          "iopub.status.busy": "2024-04-12T17:20:21.142786Z",
          "iopub.execute_input": "2024-04-12T17:20:21.143136Z",
          "iopub.status.idle": "2024-04-12T17:20:21.149347Z",
          "shell.execute_reply.started": "2024-04-12T17:20:21.143109Z",
          "shell.execute_reply": "2024-04-12T17:20:21.148324Z"
        },
        "trusted": true,
        "id": "Om6MjhN_J3Qe",
        "outputId": "0203c55b-f96e-45a1-f1f4-441df2f920b3"
      },
      "execution_count": null,
      "outputs": [
        {
          "execution_count": 7,
          "output_type": "execute_result",
          "data": {
            "text/plain": "50"
          },
          "metadata": {}
        }
      ]
    },
    {
      "cell_type": "markdown",
      "source": [
        "### For 5, 10 and 15 Epoch Models"
      ],
      "metadata": {
        "id": "-pwFOK2fJ3Qe"
      }
    },
    {
      "cell_type": "code",
      "source": [
        "template =\"\"\"\n",
        "<s>[INST] <<SYS>>\n",
        "Give answer to questions provided below from the evidence text.\n",
        "<</SYS>>\n",
        "\n",
        "Here is the question:\n",
        "{question}\n",
        "\n",
        "Consider the provided text as evidence:\n",
        "{evidence_text}\n",
        "[/INST]\n",
        "\n",
        "\"\"\"\n",
        "count = 0\n",
        "syntheses_with_llama = []\n",
        "\n",
        "for idx, row in Finance_Reduced_Test.iterrows():\n",
        "    question = row['question']\n",
        "    evidence_text = row['evidence_text']\n",
        "\n",
        "  # Construct prompt with context\n",
        "    prompt = template.format(question=question, evidence_text=evidence_text)\n",
        "    #print(prompt)\n",
        "\n",
        "    # Tokenize the prompt\n",
        "    inputs = tokenizer_3(prompt, return_tensors=\"pt\")\n",
        "\n",
        "    # Generate response\n",
        "    output = fine_tuned_80_15_Epoch.generate(input_ids=inputs[\"input_ids\"], max_new_tokens=100)\n",
        "\n",
        "    # Decode the response\n",
        "    generated_text = tokenizer_3.decode(output[0], skip_special_tokens=True)\n",
        "\n",
        "    #Finding Extracted Answer\n",
        "    answer_start = generated_text.find(\"[/INST]\") + len(\"[/INST]\")  # Find the end of </INST> tag\n",
        "    answer = generated_text[answer_start:]  # Extract everything after that position\n",
        "    syntheses_with_llama.append(answer)\n",
        "    #print(answer)\n",
        "\n",
        "    #Comparing the answer with the base answer\n",
        "    dash_line = '-'.join('' for x in range(100))\n",
        "    Answer = Finance_Reduced_Test.loc[idx, 'answer']\n",
        "    #print(f'BASELINE HUMAN ANSWER:\\n{Answer}\\n')\n",
        "    #print(dash_line)\n",
        "    #print(f'MODEL GENERATION -  FINE_TUNED_15K:\\n{answer}')\n",
        "    #print(dash_line)\n",
        "    print(count+1)\n",
        "    count = count + 1\n",
        "#Appending it to main file\n",
        "Finance_Reduced_Test['Generated_BY_LLAMA2'] = syntheses_with_llama"
      ],
      "metadata": {
        "execution": {
          "iopub.status.busy": "2024-04-12T17:20:37.233757Z",
          "iopub.execute_input": "2024-04-12T17:20:37.234464Z",
          "iopub.status.idle": "2024-04-12T17:39:05.385221Z",
          "shell.execute_reply.started": "2024-04-12T17:20:37.234430Z",
          "shell.execute_reply": "2024-04-12T17:39:05.384271Z"
        },
        "trusted": true,
        "id": "8fyPUTQhJ3Qe",
        "outputId": "5dcd65b2-e9c7-452d-cb8a-b3a0bc51aeae"
      },
      "execution_count": null,
      "outputs": [
        {
          "name": "stderr",
          "text": "/opt/conda/lib/python3.10/site-packages/transformers/generation/utils.py:1339: UserWarning: You have modified the pretrained model configuration to control generation. This is a deprecated strategy to control generation and will be removed soon, in a future version. Please use and modify the model generation configuration (see https://huggingface.co/docs/transformers/generation_strategies#default-text-generation-configuration )\n  warnings.warn(\n/opt/conda/lib/python3.10/site-packages/transformers/generation/utils.py:1477: UserWarning: You are calling .generate() with the `input_ids` being on a device type different than your model's device. `input_ids` is on cpu, whereas the model is on cuda. You may experience unexpected behaviors or slower generation. Please make sure that you have put `input_ids` to the correct device by calling for example input_ids = input_ids.to('cuda') before running `.generate()`.\n  warnings.warn(\n2024-04-12 17:20:42.710412: E external/local_xla/xla/stream_executor/cuda/cuda_dnn.cc:9261] Unable to register cuDNN factory: Attempting to register factory for plugin cuDNN when one has already been registered\n2024-04-12 17:20:42.710471: E external/local_xla/xla/stream_executor/cuda/cuda_fft.cc:607] Unable to register cuFFT factory: Attempting to register factory for plugin cuFFT when one has already been registered\n2024-04-12 17:20:42.711981: E external/local_xla/xla/stream_executor/cuda/cuda_blas.cc:1515] Unable to register cuBLAS factory: Attempting to register factory for plugin cuBLAS when one has already been registered\n",
          "output_type": "stream"
        },
        {
          "name": "stdout",
          "text": "1\n",
          "output_type": "stream"
        },
        {
          "name": "stderr",
          "text": "/opt/conda/lib/python3.10/site-packages/transformers/generation/utils.py:1477: UserWarning: You are calling .generate() with the `input_ids` being on a device type different than your model's device. `input_ids` is on cpu, whereas the model is on cuda. You may experience unexpected behaviors or slower generation. Please make sure that you have put `input_ids` to the correct device by calling for example input_ids = input_ids.to('cuda') before running `.generate()`.\n  warnings.warn(\n",
          "output_type": "stream"
        },
        {
          "name": "stdout",
          "text": "2\n3\n4\n5\n6\n7\n8\n9\n",
          "output_type": "stream"
        },
        {
          "name": "stderr",
          "text": "This is a friendly reminder - the current text generation call will exceed the model's predefined maximum length (2048). Depending on the model, you may observe exceptions, performance degradation, or nothing at all.\n",
          "output_type": "stream"
        },
        {
          "name": "stdout",
          "text": "10\n11\n12\n13\n14\n15\n16\n17\n18\n19\n20\n21\n22\n23\n24\n25\n26\n27\n28\n29\n30\n31\n32\n33\n34\n35\n36\n37\n38\n39\n40\n41\n42\n43\n44\n45\n46\n47\n48\n49\n50\n",
          "output_type": "stream"
        },
        {
          "name": "stderr",
          "text": "/tmp/ipykernel_387/3223215126.py:50: SettingWithCopyWarning: \nA value is trying to be set on a copy of a slice from a DataFrame.\nTry using .loc[row_indexer,col_indexer] = value instead\n\nSee the caveats in the documentation: https://pandas.pydata.org/pandas-docs/stable/user_guide/indexing.html#returning-a-view-versus-a-copy\n  Finance_Reduced_Test['Generated_BY_LLAMA2'] = syntheses_with_llama\n",
          "output_type": "stream"
        }
      ]
    },
    {
      "cell_type": "code",
      "source": [
        "from IPython.display import FileLink\n",
        "fine_tuned_15_Epoch = Finance_Reduced_Test.rename(columns={'question': 'question', 'answer': 'answer', 'evidence_text': 'evidence_text', 'Generated_BY_LLAMA2': 'Generated_BY_LLAMA2'})\n",
        "fine_tuned_15_Epoch.to_csv('fine_tuned_15_Epoch.csv', index=False)\n",
        "FileLink('fine_tuned_15_Epoch.csv')"
      ],
      "metadata": {
        "execution": {
          "iopub.status.busy": "2024-04-12T17:41:52.508747Z",
          "iopub.execute_input": "2024-04-12T17:41:52.509565Z",
          "iopub.status.idle": "2024-04-12T17:41:52.527443Z",
          "shell.execute_reply.started": "2024-04-12T17:41:52.509529Z",
          "shell.execute_reply": "2024-04-12T17:41:52.526446Z"
        },
        "trusted": true,
        "id": "YcPXVI6pJ3Qe",
        "outputId": "423f3045-bf4f-4efe-bed7-f1b27f2c2b31"
      },
      "execution_count": null,
      "outputs": [
        {
          "execution_count": 9,
          "output_type": "execute_result",
          "data": {
            "text/plain": "/kaggle/working/fine_tuned_15_Epoch.csv",
            "text/html": "<a href='fine_tuned_15_Epoch.csv' target='_blank'>fine_tuned_15_Epoch.csv</a><br>"
          },
          "metadata": {}
        }
      ]
    },
    {
      "cell_type": "code",
      "source": [
        "# torch.save(fine_tuned_80_15_Epoch.state_dict(), 'model.pth')"
      ],
      "metadata": {
        "trusted": true,
        "id": "-zu70ARpJ3Qe"
      },
      "execution_count": null,
      "outputs": []
    },
    {
      "cell_type": "code",
      "source": [
        "# print(\"Hello\")"
      ],
      "metadata": {
        "execution": {
          "iopub.status.busy": "2024-04-12T20:10:31.598783Z",
          "iopub.execute_input": "2024-04-12T20:10:31.599224Z",
          "iopub.status.idle": "2024-04-12T20:10:31.604484Z",
          "shell.execute_reply.started": "2024-04-12T20:10:31.599193Z",
          "shell.execute_reply": "2024-04-12T20:10:31.603466Z"
        },
        "trusted": true,
        "id": "Ff86o2GEJ3Qf",
        "outputId": "9e471d99-73d0-4032-979d-0185a4f49a5d"
      },
      "execution_count": null,
      "outputs": [
        {
          "name": "stdout",
          "text": "Hello\n",
          "output_type": "stream"
        }
      ]
    },
    {
      "cell_type": "markdown",
      "source": [
        "# Evaluation"
      ],
      "metadata": {
        "id": "Yk1NHuXZJ3Qf"
      }
    },
    {
      "cell_type": "code",
      "source": [
        "import pandas as pd\n",
        "\n",
        "file_path_10 = \"/kaggle/input/fine-tuned-llama2-finance/fine_tuned_5_Epoch (1).csv\"\n",
        "file_path_11 = \"/kaggle/input/fine-tuned-llama2-finance/fine_tuned_10_Epoch (1).csv\"\n",
        "file_path_12 = \"/kaggle/input/fine-tuned-llama2-finance/fine_tuned_15_Epoch (1).csv\"\n",
        "\n",
        "\n",
        "Fine_Tuned_5 = pd.read_csv(file_path_10)\n",
        "Fine_Tuned_10 = pd.read_csv(file_path_11)\n",
        "Fine_Tuned_15 = pd.read_csv(file_path_12)\n",
        "\n",
        "Fine_Tuned_15.head()"
      ],
      "metadata": {
        "execution": {
          "iopub.status.busy": "2024-04-23T18:27:44.298642Z",
          "iopub.execute_input": "2024-04-23T18:27:44.299434Z",
          "iopub.status.idle": "2024-04-23T18:27:45.250631Z",
          "shell.execute_reply.started": "2024-04-23T18:27:44.299401Z",
          "shell.execute_reply": "2024-04-23T18:27:45.249749Z"
        },
        "trusted": true,
        "id": "9XJODQV6J3Qf",
        "outputId": "f59b4983-d4b5-4cac-ffdd-ab7ad2988e89"
      },
      "execution_count": null,
      "outputs": [
        {
          "execution_count": 1,
          "output_type": "execute_result",
          "data": {
            "text/plain": "                                            question  \\\n0  What is the FY2018 capital expenditure amount ...   \n1  Assume that you are a public equities analyst....   \n2  Is 3M a capital-intensive business based on FY...   \n3  What drove operating margin change as of FY202...   \n4  If we exclude the impact of M&A, which segment...   \n\n                                              answer  \\\n0                                           $1577.00   \n1                                              $8.70   \n2  No, the company is managing its CAPEX and Fixe...   \n3  Operating Margin for 3M in FY2022 has decrease...   \n4   The consumer segment shrunk by 0.9% organically.   \n\n                                       evidence_text  \\\n0  Table of Contents \\n3M Company and Subsidiarie...   \n1  Table of Contents \\n3M Company and Subsidiarie...   \n2  3M Company and Subsidiaries\\n Consolidated Sta...   \n3  SG&A, measured as a percent of sales, increase...   \n4  Worldwide Sales Change\\nBy Business Segment Or...   \n\n                                 Generated_BY_LLAMA2  \n0  \\n\\nBased on the information provided in the 3...  \n1  \\n\\nBased on the information provided in the b...  \n2  \\n\\nBased on the provided evidence from the 3M...  \n3  \\n\\nBased on the provided text, the answer to ...  \n4  \\n\\nBased on the evidence provided in the text...  ",
            "text/html": "<div>\n<style scoped>\n    .dataframe tbody tr th:only-of-type {\n        vertical-align: middle;\n    }\n\n    .dataframe tbody tr th {\n        vertical-align: top;\n    }\n\n    .dataframe thead th {\n        text-align: right;\n    }\n</style>\n<table border=\"1\" class=\"dataframe\">\n  <thead>\n    <tr style=\"text-align: right;\">\n      <th></th>\n      <th>question</th>\n      <th>answer</th>\n      <th>evidence_text</th>\n      <th>Generated_BY_LLAMA2</th>\n    </tr>\n  </thead>\n  <tbody>\n    <tr>\n      <th>0</th>\n      <td>What is the FY2018 capital expenditure amount ...</td>\n      <td>$1577.00</td>\n      <td>Table of Contents \\n3M Company and Subsidiarie...</td>\n      <td>\\n\\nBased on the information provided in the 3...</td>\n    </tr>\n    <tr>\n      <th>1</th>\n      <td>Assume that you are a public equities analyst....</td>\n      <td>$8.70</td>\n      <td>Table of Contents \\n3M Company and Subsidiarie...</td>\n      <td>\\n\\nBased on the information provided in the b...</td>\n    </tr>\n    <tr>\n      <th>2</th>\n      <td>Is 3M a capital-intensive business based on FY...</td>\n      <td>No, the company is managing its CAPEX and Fixe...</td>\n      <td>3M Company and Subsidiaries\\n Consolidated Sta...</td>\n      <td>\\n\\nBased on the provided evidence from the 3M...</td>\n    </tr>\n    <tr>\n      <th>3</th>\n      <td>What drove operating margin change as of FY202...</td>\n      <td>Operating Margin for 3M in FY2022 has decrease...</td>\n      <td>SG&amp;A, measured as a percent of sales, increase...</td>\n      <td>\\n\\nBased on the provided text, the answer to ...</td>\n    </tr>\n    <tr>\n      <th>4</th>\n      <td>If we exclude the impact of M&amp;A, which segment...</td>\n      <td>The consumer segment shrunk by 0.9% organically.</td>\n      <td>Worldwide Sales Change\\nBy Business Segment Or...</td>\n      <td>\\n\\nBased on the evidence provided in the text...</td>\n    </tr>\n  </tbody>\n</table>\n</div>"
          },
          "metadata": {}
        }
      ]
    },
    {
      "cell_type": "code",
      "source": [
        "# # Assuming 'df' is your DataFrame containing the dataset\n",
        "# # Replace 'df' with the actual name of your DataFrame\n",
        "\n",
        "# # Selecting the 'answer' and 'Generated_BY_GEMMA' columns\n",
        "# selected_columns = ['answer', 'Generated_BY_LLAMA2']\n",
        "\n",
        "# # Printing the first 50 rows with a dash line between the columns\n",
        "# for index, row in Fine_Tuned_5[selected_columns].head(50).iterrows():\n",
        "#     print(f\"{row['answer']} ------ {row['Generated_BY_LLAMA2']}\")\n",
        "#     print('--' * 50)  # Dash line separator"
      ],
      "metadata": {
        "execution": {
          "iopub.status.busy": "2024-04-23T18:47:57.021463Z",
          "iopub.execute_input": "2024-04-23T18:47:57.021848Z",
          "iopub.status.idle": "2024-04-23T18:47:57.026553Z",
          "shell.execute_reply.started": "2024-04-23T18:47:57.021817Z",
          "shell.execute_reply": "2024-04-23T18:47:57.025645Z"
        },
        "trusted": true,
        "id": "HmghQihjJ3Qf"
      },
      "execution_count": null,
      "outputs": []
    },
    {
      "cell_type": "code",
      "source": [
        "from IPython.display import FileLink\n",
        "Fine_Tuned_15.to_csv('fine_tuned_15_Epoch.csv', index=False)\n",
        "FileLink('fine_tuned_15_Epoch.csv')"
      ],
      "metadata": {
        "execution": {
          "iopub.status.busy": "2024-04-12T21:11:23.971880Z",
          "iopub.execute_input": "2024-04-12T21:11:23.972503Z",
          "iopub.status.idle": "2024-04-12T21:11:23.987301Z",
          "shell.execute_reply.started": "2024-04-12T21:11:23.972471Z",
          "shell.execute_reply": "2024-04-12T21:11:23.986441Z"
        },
        "trusted": true,
        "id": "V2-ZM2XfJ3Qf",
        "outputId": "22d68ffd-361e-428e-b8fc-bcf40cfab2b9"
      },
      "execution_count": null,
      "outputs": [
        {
          "execution_count": 3,
          "output_type": "execute_result",
          "data": {
            "text/plain": "/kaggle/working/fine_tuned_15_Epoch.csv",
            "text/html": "<a href='fine_tuned_15_Epoch.csv' target='_blank'>fine_tuned_15_Epoch.csv</a><br>"
          },
          "metadata": {}
        }
      ]
    },
    {
      "cell_type": "code",
      "source": [
        "from sklearn.metrics.pairwise import cosine_similarity\n",
        "from sklearn.feature_extraction.text import TfidfVectorizer\n",
        "from typing import List\n",
        "import nltk\n",
        "from nltk.tokenize import word_tokenize\n",
        "from nltk.corpus import stopwords"
      ],
      "metadata": {
        "execution": {
          "iopub.status.busy": "2024-04-23T18:48:01.192795Z",
          "iopub.execute_input": "2024-04-23T18:48:01.193630Z",
          "iopub.status.idle": "2024-04-23T18:48:02.893471Z",
          "shell.execute_reply.started": "2024-04-23T18:48:01.193599Z",
          "shell.execute_reply": "2024-04-23T18:48:02.892499Z"
        },
        "trusted": true,
        "id": "8dWPHNV4J3Qf"
      },
      "execution_count": null,
      "outputs": []
    },
    {
      "cell_type": "code",
      "source": [
        "def compute_rouge_l(candidate, reference):\n",
        "    m, n = len(candidate), len(reference)\n",
        "    #print(m,n)\n",
        "    dp_table = [[0] * (n + 1) for _ in range(m + 1)]\n",
        "\n",
        "    for i in range(1, m + 1):\n",
        "        for j in range(1, n + 1):\n",
        "            if candidate[i - 1] == reference[j - 1]:\n",
        "                dp_table[i][j] = dp_table[i - 1][j - 1] + 1\n",
        "            else:\n",
        "                dp_table[i][j] = max(dp_table[i - 1][j], dp_table[i][j - 1])\n",
        "\n",
        "    return dp_table[m][n] / n"
      ],
      "metadata": {
        "execution": {
          "iopub.status.busy": "2024-04-23T18:48:04.693537Z",
          "iopub.execute_input": "2024-04-23T18:48:04.694555Z",
          "iopub.status.idle": "2024-04-23T18:48:04.701347Z",
          "shell.execute_reply.started": "2024-04-23T18:48:04.694521Z",
          "shell.execute_reply": "2024-04-23T18:48:04.700424Z"
        },
        "trusted": true,
        "id": "1mLNPKgJJ3Qf"
      },
      "execution_count": null,
      "outputs": []
    },
    {
      "cell_type": "code",
      "source": [
        "nltk.download('stopwords')"
      ],
      "metadata": {
        "execution": {
          "iopub.status.busy": "2024-04-23T18:48:05.981521Z",
          "iopub.execute_input": "2024-04-23T18:48:05.982173Z",
          "iopub.status.idle": "2024-04-23T18:48:06.059614Z",
          "shell.execute_reply.started": "2024-04-23T18:48:05.982143Z",
          "shell.execute_reply": "2024-04-23T18:48:06.058688Z"
        },
        "trusted": true,
        "id": "Yz9cV54BJ3Qf",
        "outputId": "45599146-3e6e-4750-974e-96ae0e9e8009"
      },
      "execution_count": null,
      "outputs": [
        {
          "name": "stdout",
          "text": "[nltk_data] Downloading package stopwords to /usr/share/nltk_data...\n[nltk_data]   Package stopwords is already up-to-date!\n",
          "output_type": "stream"
        },
        {
          "execution_count": 10,
          "output_type": "execute_result",
          "data": {
            "text/plain": "True"
          },
          "metadata": {}
        }
      ]
    },
    {
      "cell_type": "code",
      "source": [
        "def preprocess_text(text):\n",
        "    # Tokenize the text\n",
        "    tokens = word_tokenize(text.lower())\n",
        "\n",
        "    # Remove stopwords\n",
        "    stop_words = set(stopwords.words('english'))\n",
        "    filtered_tokens = [word for word in tokens if word not in stop_words]\n",
        "\n",
        "    return filtered_tokens"
      ],
      "metadata": {
        "execution": {
          "iopub.status.busy": "2024-04-23T18:48:07.219998Z",
          "iopub.execute_input": "2024-04-23T18:48:07.220721Z",
          "iopub.status.idle": "2024-04-23T18:48:07.225667Z",
          "shell.execute_reply.started": "2024-04-23T18:48:07.220676Z",
          "shell.execute_reply": "2024-04-23T18:48:07.224695Z"
        },
        "trusted": true,
        "id": "QIDoCUGxJ3Qg"
      },
      "execution_count": null,
      "outputs": []
    },
    {
      "cell_type": "code",
      "source": [
        "def compute_similarity_score(answer,syntheses):\n",
        "    tokens_answer = preprocess_text(answer)\n",
        "    tokens_syntheses = preprocess_text(syntheses)\n",
        "    str_answer = ' '.join(tokens_answer)\n",
        "    str_syntheses = ' '.join(tokens_syntheses)\n",
        "    freqdist_answer = nltk.FreqDist(str_answer.split())\n",
        "    freqdist_syntheses = nltk.FreqDist(str_syntheses.split())\n",
        "    # Extract frequencies for unique tokens in both texts\n",
        "    unique_tokens = set(freqdist_answer.keys()).union(freqdist_syntheses.keys())\n",
        "\n",
        "    freq_answer = [freqdist_answer[token] for token in unique_tokens]\n",
        "    freq_syntheses = [freqdist_syntheses[token] for token in unique_tokens]\n",
        "\n",
        "    vector_answer = np.array(freq_answer).reshape(1, -1)\n",
        "    vector_syntheses = np.array(freq_syntheses).reshape(1, -1)\n",
        "\n",
        "    similarity_score = cosine_similarity(vector_answer, vector_syntheses)[0][0]\n",
        "\n",
        "    return similarity_score"
      ],
      "metadata": {
        "execution": {
          "iopub.status.busy": "2024-04-23T18:48:12.500850Z",
          "iopub.execute_input": "2024-04-23T18:48:12.501296Z",
          "iopub.status.idle": "2024-04-23T18:48:12.508744Z",
          "shell.execute_reply.started": "2024-04-23T18:48:12.501270Z",
          "shell.execute_reply": "2024-04-23T18:48:12.507858Z"
        },
        "trusted": true,
        "id": "JonlOpZVJ3Qg"
      },
      "execution_count": null,
      "outputs": []
    },
    {
      "cell_type": "markdown",
      "source": [
        "### For 5 Epoches"
      ],
      "metadata": {
        "id": "CYPZebopJ3Qg"
      }
    },
    {
      "cell_type": "code",
      "source": [
        "import numpy as np\n",
        "\n",
        "tfidf_vectorizer = TfidfVectorizer\n",
        "\n",
        "total_average_rouge_l_scores_1 = []\n",
        "total_average_cosine_similarity_scores_1  = []\n",
        "\n",
        "num_labels_1 = []\n",
        "count = 0\n",
        "\n",
        "for i in range(5):\n",
        "    count += 10\n",
        "    num_labels_1.append(count)\n",
        "    #print(num_labels)\n",
        "    df = Fine_Tuned_5.head(count)\n",
        "    #print(len(df))\n",
        "\n",
        "    rouge_l_scores = []\n",
        "    cosine_similarity_scores = []\n",
        "\n",
        "    for idx, row in df.iterrows():\n",
        "        answer = row['answer']\n",
        "        syntheses = row['Generated_BY_LLAMA2']\n",
        "\n",
        "        compute_sim_score = compute_similarity_score(answer,syntheses)\n",
        "        cosine_similarity_scores.append(compute_sim_score)\n",
        "\n",
        "        rouge_l_score = compute_rouge_l(answer, syntheses)\n",
        "        rouge_l_scores.append(rouge_l_score)\n",
        "\n",
        "\n",
        "    total_average_cosine_similarity_score = sum(cosine_similarity_scores) / len(cosine_similarity_scores)\n",
        "    total_average_cosine_similarity_scores_1.append(total_average_cosine_similarity_score)\n",
        "\n",
        "\n",
        "    total_average_rouge_l_score = sum(rouge_l_scores)/len(rouge_l_scores)\n",
        "    total_average_rouge_l_scores_1.append(total_average_rouge_l_score)\n",
        "\n",
        "    #print(total_average_cosine_similarity_scores_1)\n",
        "    #print(total_average_rouge_l_scores_1)"
      ],
      "metadata": {
        "execution": {
          "iopub.status.busy": "2024-04-23T18:48:26.201750Z",
          "iopub.execute_input": "2024-04-23T18:48:26.202602Z",
          "iopub.status.idle": "2024-04-23T18:48:28.779974Z",
          "shell.execute_reply.started": "2024-04-23T18:48:26.202569Z",
          "shell.execute_reply": "2024-04-23T18:48:28.778950Z"
        },
        "trusted": true,
        "id": "ZxzqnMj8J3Qg",
        "outputId": "936a8b85-2296-43a6-fb8e-93c53832194d"
      },
      "execution_count": null,
      "outputs": [
        {
          "name": "stdout",
          "text": "[0.2358703270935707]\n[0.18905374715804024]\n[0.2358703270935707, 0.1827251369862751]\n[0.18905374715804024, 0.12991284352378085]\n[0.2358703270935707, 0.1827251369862751, 0.23152760804764907]\n[0.18905374715804024, 0.12991284352378085, 0.16680985603845802]\n[0.2358703270935707, 0.1827251369862751, 0.23152760804764907, 0.27036886005624466]\n[0.18905374715804024, 0.12991284352378085, 0.16680985603845802, 0.18459994553607081]\n[0.2358703270935707, 0.1827251369862751, 0.23152760804764907, 0.27036886005624466, 0.27273764937275496]\n[0.18905374715804024, 0.12991284352378085, 0.16680985603845802, 0.18459994553607081, 0.16735522459073748]\n",
          "output_type": "stream"
        }
      ]
    },
    {
      "cell_type": "markdown",
      "source": [
        "### For 10 Epoches"
      ],
      "metadata": {
        "id": "C0jULcPTJ3Qg"
      }
    },
    {
      "cell_type": "code",
      "source": [
        "tfidf_vectorizer = TfidfVectorizer\n",
        "\n",
        "total_average_rouge_l_scores_2 = []\n",
        "total_average_cosine_similarity_scores_2  = []\n",
        "\n",
        "num_labels_2 = []\n",
        "count = 0\n",
        "\n",
        "for i in range(5):\n",
        "    count += 10\n",
        "    num_labels_2.append(count)\n",
        "    #print(num_labels)\n",
        "    df = Fine_Tuned_10.head(count)\n",
        "    #print(len(df))\n",
        "\n",
        "    rouge_l_scores = []\n",
        "    cosine_similarity_scores = []\n",
        "\n",
        "    for idx, row in df.iterrows():\n",
        "        answer = row['answer']\n",
        "        syntheses = row['Generated_BY_LLAMA2']\n",
        "\n",
        "        compute_sim_score = compute_similarity_score(answer,syntheses)\n",
        "        cosine_similarity_scores.append(compute_sim_score)\n",
        "\n",
        "        rouge_l_score = compute_rouge_l(answer, syntheses)\n",
        "        rouge_l_scores.append(rouge_l_score)\n",
        "\n",
        "    total_average_cosine_similarity_score = sum(cosine_similarity_scores) / len(cosine_similarity_scores)\n",
        "    total_average_cosine_similarity_scores_2.append(total_average_cosine_similarity_score)\n",
        "\n",
        "    total_average_rouge_l_score = sum(rouge_l_scores)/len(rouge_l_scores)\n",
        "    total_average_rouge_l_scores_2.append(total_average_rouge_l_score)\n",
        "\n",
        "    #print(total_average_cosine_similarity_scores_2)\n",
        "    #print(total_average_rouge_l_scores_2)"
      ],
      "metadata": {
        "execution": {
          "iopub.status.busy": "2024-04-12T20:19:15.224398Z",
          "iopub.execute_input": "2024-04-12T20:19:15.225129Z",
          "iopub.status.idle": "2024-04-12T20:19:17.899579Z",
          "shell.execute_reply.started": "2024-04-12T20:19:15.225094Z",
          "shell.execute_reply": "2024-04-12T20:19:17.898571Z"
        },
        "trusted": true,
        "id": "A6xaIASsJ3Qg"
      },
      "execution_count": null,
      "outputs": []
    },
    {
      "cell_type": "markdown",
      "source": [
        "### For 15 Epoches"
      ],
      "metadata": {
        "id": "MFqr3j3MJ3Qg"
      }
    },
    {
      "cell_type": "code",
      "source": [
        "tfidf_vectorizer = TfidfVectorizer\n",
        "\n",
        "total_average_rouge_l_scores_3 = []\n",
        "total_average_cosine_similarity_scores_3  = []\n",
        "\n",
        "num_labels_3 = []\n",
        "count = 0\n",
        "\n",
        "for i in range(5):\n",
        "    count += 10\n",
        "    num_labels_3.append(count)\n",
        "    #print(num_labels)\n",
        "    df = Fine_Tuned_15.head(count)\n",
        "    #print(len(df))\n",
        "\n",
        "    rouge_l_scores = []\n",
        "    cosine_similarity_scores = []\n",
        "\n",
        "    for idx, row in df.iterrows():\n",
        "        answer = row['answer']\n",
        "        syntheses = row['Generated_BY_LLAMA2']\n",
        "\n",
        "        compute_sim_score = compute_similarity_score(answer,syntheses)\n",
        "        cosine_similarity_scores.append(compute_sim_score)\n",
        "\n",
        "        rouge_l_score = compute_rouge_l(answer, syntheses)\n",
        "        rouge_l_scores.append(rouge_l_score)\n",
        "\n",
        "    total_average_cosine_similarity_score = sum(cosine_similarity_scores) / len(cosine_similarity_scores)\n",
        "    total_average_cosine_similarity_scores_3.append(total_average_cosine_similarity_score)\n",
        "\n",
        "    total_average_rouge_l_score = sum(rouge_l_scores)/len(rouge_l_scores)\n",
        "    total_average_rouge_l_scores_3.append(total_average_rouge_l_score)\n",
        "\n",
        "    #print(total_average_cosine_similarity_scores_3)\n",
        "    #print(total_average_rouge_l_scores_3)"
      ],
      "metadata": {
        "execution": {
          "iopub.status.busy": "2024-04-12T20:19:20.242515Z",
          "iopub.execute_input": "2024-04-12T20:19:20.243252Z",
          "iopub.status.idle": "2024-04-12T20:19:22.919338Z",
          "shell.execute_reply.started": "2024-04-12T20:19:20.243217Z",
          "shell.execute_reply": "2024-04-12T20:19:22.918271Z"
        },
        "trusted": true,
        "id": "WuuyeXuwJ3Qh"
      },
      "execution_count": null,
      "outputs": []
    },
    {
      "cell_type": "markdown",
      "source": [
        "### For 5 Epoch"
      ],
      "metadata": {
        "id": "RJNhHMfXJ3Qh"
      }
    },
    {
      "cell_type": "code",
      "source": [
        "import matplotlib.pyplot as plt\n",
        "import numpy as np\n",
        "from matplotlib import cm\n",
        "\n",
        "plt.figure(figsize=(20, 5))\n",
        "\n",
        "# Plot Accuracy\n",
        "plt.subplot(1, 3, 1)\n",
        "plt.plot(num_labels_1, total_average_rouge_l_scores_1, marker='o', linestyle='-', color='skyblue', linewidth=2)\n",
        "\n",
        "plt.xlabel('Number of Labels')\n",
        "plt.ylabel('Total Average ROUGE-L Score for 5 Epoch')\n",
        "plt.title(' After Fine-Tuning ROUGE-L Score Comparison for 5 Epoch')\n",
        "\n",
        "plt.subplot(1, 3, 2)\n",
        "plt.plot(num_labels_1, total_average_cosine_similarity_scores_1, marker='o', linestyle='-', color='skyblue', linewidth=2)\n",
        "plt.xlabel('Number of Labels')\n",
        "plt.ylabel('Total Average Cosine Similarity Score for 5 Epoch')\n",
        "plt.title(' After Fine-Tuning Cosine Similarity Score for 5 Epoch')"
      ],
      "metadata": {
        "execution": {
          "iopub.status.busy": "2024-04-12T20:19:26.620759Z",
          "iopub.execute_input": "2024-04-12T20:19:26.621485Z",
          "iopub.status.idle": "2024-04-12T20:19:27.231027Z",
          "shell.execute_reply.started": "2024-04-12T20:19:26.621451Z",
          "shell.execute_reply": "2024-04-12T20:19:27.230088Z"
        },
        "trusted": true,
        "id": "jKPk0hg2J3Qh",
        "outputId": "25673bdf-fc9c-480b-ef0e-21a92c26b8f2"
      },
      "execution_count": null,
      "outputs": [
        {
          "execution_count": 27,
          "output_type": "execute_result",
          "data": {
            "text/plain": "Text(0.5, 1.0, ' After Fine-Tuning Cosine Similarity Score for 5 Epoch')"
          },
          "metadata": {}
        },
        {
          "output_type": "display_data",
          "data": {
            "text/plain": "<Figure size 2000x500 with 2 Axes>",
            "image/png": "[encoded data removed]"
          },
          "metadata": {}
        }
      ]
    },
    {
      "cell_type": "markdown",
      "source": [
        "### For 10 Epoch"
      ],
      "metadata": {
        "id": "klbFd2JqJ3Qh"
      }
    },
    {
      "cell_type": "code",
      "source": [
        "import matplotlib.pyplot as plt\n",
        "import numpy as np\n",
        "from matplotlib import cm\n",
        "\n",
        "plt.figure(figsize=(20, 5))\n",
        "\n",
        "# Plot Accuracy\n",
        "plt.subplot(1, 3, 1)\n",
        "plt.plot(num_labels_2, total_average_rouge_l_scores_2, marker='o', linestyle='-', color='skyblue', linewidth=2)\n",
        "\n",
        "plt.xlabel('Number of Labels')\n",
        "plt.ylabel('Total Average ROUGE-L Score for 10 Epoch')\n",
        "plt.title(' After Fine-Tuning ROUGE-L Score Comparison for 10 Epoch')\n",
        "\n",
        "plt.subplot(1, 3, 2)\n",
        "plt.plot(num_labels_2, total_average_cosine_similarity_scores_2, marker='o', linestyle='-', color='skyblue', linewidth=2)\n",
        "plt.xlabel('Number of Labels')\n",
        "plt.ylabel('Total Average Cosine Similarity Score for 10 Epoch')\n",
        "plt.title(' After Fine-Tuning Cosine Similarity Score for 10 Epoch')"
      ],
      "metadata": {
        "execution": {
          "iopub.status.busy": "2024-04-12T20:19:30.061267Z",
          "iopub.execute_input": "2024-04-12T20:19:30.062325Z",
          "iopub.status.idle": "2024-04-12T20:19:30.544019Z",
          "shell.execute_reply.started": "2024-04-12T20:19:30.062288Z",
          "shell.execute_reply": "2024-04-12T20:19:30.543083Z"
        },
        "trusted": true,
        "id": "lgUHfjd4J3Qh",
        "outputId": "03b13fdc-7084-49b4-edcd-aca34c0cd22b"
      },
      "execution_count": null,
      "outputs": [
        {
          "execution_count": 28,
          "output_type": "execute_result",
          "data": {
            "text/plain": "Text(0.5, 1.0, ' After Fine-Tuning Cosine Similarity Score for 10 Epoch')"
          },
          "metadata": {}
        },
        {
          "output_type": "display_data",
          "data": {
            "text/plain": "<Figure size 2000x500 with 2 Axes>",
            "image/png": "[encoded data removed]"
          },
          "metadata": {}
        }
      ]
    },
    {
      "cell_type": "markdown",
      "source": [
        "### For 15 Epoch"
      ],
      "metadata": {
        "id": "6StaCoB_J3Qh"
      }
    },
    {
      "cell_type": "code",
      "source": [
        "import matplotlib.pyplot as plt\n",
        "import numpy as np\n",
        "from matplotlib import cm\n",
        "\n",
        "plt.figure(figsize=(20, 5))\n",
        "\n",
        "# Plot Accuracy\n",
        "plt.subplot(1, 3, 1)\n",
        "plt.plot(num_labels_3, total_average_rouge_l_scores_3, marker='o', linestyle='-', color='skyblue', linewidth=2)\n",
        "\n",
        "plt.xlabel('Number of Labels')\n",
        "plt.ylabel('Total Average ROUGE-L Score for 15 Epoch')\n",
        "plt.title(' After Fine-Tuning ROUGE-L Score Comparison for 15 Epoch')\n",
        "\n",
        "plt.subplot(1, 3, 2)\n",
        "plt.plot(num_labels_3, total_average_cosine_similarity_scores_3, marker='o', linestyle='-', color='skyblue', linewidth=2)\n",
        "plt.xlabel('Number of Labels')\n",
        "plt.ylabel('Total Average Cosine Similarity Score for 15 Epoch')\n",
        "plt.title(' After Fine-Tuning Cosine Similarity Score for 15 Epoch')"
      ],
      "metadata": {
        "execution": {
          "iopub.status.busy": "2024-04-12T20:19:34.427406Z",
          "iopub.execute_input": "2024-04-12T20:19:34.427796Z",
          "iopub.status.idle": "2024-04-12T20:19:34.930730Z",
          "shell.execute_reply.started": "2024-04-12T20:19:34.427764Z",
          "shell.execute_reply": "2024-04-12T20:19:34.929736Z"
        },
        "trusted": true,
        "id": "X7M2E4cmJ3Qh",
        "outputId": "206e2680-c51d-4ca1-8d94-93113b0e4e16"
      },
      "execution_count": null,
      "outputs": [
        {
          "execution_count": 29,
          "output_type": "execute_result",
          "data": {
            "text/plain": "Text(0.5, 1.0, ' After Fine-Tuning Cosine Similarity Score for 15 Epoch')"
          },
          "metadata": {}
        },
        {
          "output_type": "display_data",
          "data": {
            "text/plain": "<Figure size 2000x500 with 2 Axes>",
            "image/png": "[encoded data removed]"
          },
          "metadata": {}
        }
      ]
    },
    {
      "cell_type": "code",
      "source": [
        "# Fine_Tune_15_Cosine_Similarity = total_average_cosine_similarity_scores\n",
        "# Fine_Tune_15_Rouge_L_Scores = total_average_rouge_l_scores"
      ],
      "metadata": {
        "trusted": true,
        "id": "gVUUrtAhJ3Qh"
      },
      "execution_count": null,
      "outputs": []
    },
    {
      "cell_type": "markdown",
      "source": [
        "### Fine Tuning Finished"
      ],
      "metadata": {
        "id": "NFrq1_G0J3Qh"
      }
    }
  ]
}