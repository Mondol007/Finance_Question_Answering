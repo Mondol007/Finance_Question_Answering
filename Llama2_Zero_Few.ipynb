{
  "metadata": {
    "kernelspec": {
      "language": "python",
      "display_name": "Python 3",
      "name": "python3"
    },
    "language_info": {
      "name": "python",
      "version": "3.10.12",
      "mimetype": "text/x-python",
      "codemirror_mode": {
        "name": "ipython",
        "version": 3
      },
      "pygments_lexer": "ipython3",
      "nbconvert_exporter": "python",
      "file_extension": ".py"
    },
    "kaggle": {
      "accelerator": "gpu",
      "dataSources": [
        {
          "sourceId": 7959417,
          "sourceType": "datasetVersion",
          "datasetId": 4682065
        },
        {
          "sourceId": 7982383,
          "sourceType": "datasetVersion",
          "datasetId": 4698395
        },
        {
          "sourceId": 7992996,
          "sourceType": "datasetVersion",
          "datasetId": 4705689
        },
        {
          "sourceId": 4298,
          "sourceType": "modelInstanceVersion",
          "modelInstanceId": 3093,
          "modelId": 735
        }
      ],
      "dockerImageVersionId": 30587,
      "isInternetEnabled": true,
      "language": "python",
      "sourceType": "notebook",
      "isGpuEnabled": true
    },
    "colab": {
      "provenance": []
    }
  },
  "nbformat_minor": 0,
  "nbformat": 4,
  "cells": [
    {
      "cell_type": "code",
      "source": [
        "# This Python 3 environment comes with many helpful analytics libraries installed\n",
        "# It is defined by the kaggle/python Docker image: https://github.com/kaggle/docker-python\n",
        "# For example, here's several helpful packages to load\n",
        "\n",
        "import numpy as np # linear algebra\n",
        "import pandas as pd # data processing, CSV file I/O (e.g. pd.read_csv)\n",
        "\n",
        "# Input data files are available in the read-only \"../input/\" directory\n",
        "# For example, running this (by clicking run or pressing Shift+Enter) will list all files under the input directory\n",
        "\n",
        "import os\n",
        "for dirname, _, filenames in os.walk('/kaggle/input'):\n",
        "    for filename in filenames:\n",
        "        print(os.path.join(dirname, filename))\n",
        "\n",
        "# You can write up to 20GB to the current directory (/kaggle/working/) that gets preserved as output when you create a version using \"Save & Run All\"\n",
        "# You can also write temporary files to /kaggle/temp/, but they won't be saved outside of the current session"
      ],
      "metadata": {
        "_uuid": "8f2839f25d086af736a60e9eeb907d3b93b6e0e5",
        "_cell_guid": "b1076dfc-b9ad-4769-8c92-a6c4dae69d19",
        "execution": {
          "iopub.status.busy": "2024-04-10T17:18:26.435306Z",
          "iopub.execute_input": "2024-04-10T17:18:26.435660Z",
          "iopub.status.idle": "2024-04-10T17:18:26.799393Z",
          "shell.execute_reply.started": "2024-04-10T17:18:26.435633Z",
          "shell.execute_reply": "2024-04-10T17:18:26.798439Z"
        },
        "trusted": true,
        "id": "5TFVbNQcJ6yg",
        "outputId": "e3cbf314-c9bd-4256-d323-dfdba91414c8"
      },
      "execution_count": null,
      "outputs": [
        {
          "name": "stdout",
          "text": "/kaggle/input/few3-shot-finance-reduced-50/Few_Shot_Finance_Reduced_50.csv\n/kaggle/input/llama-2/pytorch/7b-chat-hf/1/model.safetensors.index.json\n/kaggle/input/llama-2/pytorch/7b-chat-hf/1/config.json\n/kaggle/input/llama-2/pytorch/7b-chat-hf/1/model-00001-of-00002.safetensors\n/kaggle/input/llama-2/pytorch/7b-chat-hf/1/model-00002-of-00002.safetensors\n/kaggle/input/llama-2/pytorch/7b-chat-hf/1/pytorch_model-00002-of-00002.bin\n/kaggle/input/llama-2/pytorch/7b-chat-hf/1/README.md\n/kaggle/input/llama-2/pytorch/7b-chat-hf/1/USE_POLICY.md\n/kaggle/input/llama-2/pytorch/7b-chat-hf/1/tokenizer.json\n/kaggle/input/llama-2/pytorch/7b-chat-hf/1/tokenizer_config.json\n/kaggle/input/llama-2/pytorch/7b-chat-hf/1/pytorch_model.bin.index.json\n/kaggle/input/llama-2/pytorch/7b-chat-hf/1/LICENSE.txt\n/kaggle/input/llama-2/pytorch/7b-chat-hf/1/pytorch_model-00001-of-00002.bin\n/kaggle/input/llama-2/pytorch/7b-chat-hf/1/special_tokens_map.json\n/kaggle/input/llama-2/pytorch/7b-chat-hf/1/.gitattributes\n/kaggle/input/llama-2/pytorch/7b-chat-hf/1/tokenizer.model\n/kaggle/input/llama-2/pytorch/7b-chat-hf/1/added_tokens.json\n/kaggle/input/llama-2/pytorch/7b-chat-hf/1/generation_config.json\n/kaggle/input/zero-shot-finance-reduced-50/Zero_Shot_Finance_Reduced_50.csv\n/kaggle/input/finance-bench-dataset/10_labels.csv\n/kaggle/input/finance-bench-dataset/syntheses_10.csv\n",
          "output_type": "stream"
        }
      ]
    },
    {
      "cell_type": "code",
      "source": [
        "import os\n",
        "import platform\n",
        "import psutil\n",
        "import tensorflow as tf\n",
        "\n",
        "# Processor information\n",
        "processor = platform.processor()\n",
        "\n",
        "# Number of CPU cores\n",
        "core_count = psutil.cpu_count(logical=False)\n",
        "\n",
        "# CPU speed\n",
        "cpu_speed = psutil.cpu_freq().current\n",
        "\n",
        "# RAM information\n",
        "ram_info = psutil.virtual_memory()\n",
        "ram_total = ram_info.total\n",
        "\n",
        "# GPU information\n",
        "gpu_info = !nvidia-smi --query-gpu=gpu_name,driver_version --format=csv\n",
        "gpu_name = gpu_info[1].split(',')[0].strip()\n",
        "gpu_driver_version = gpu_info[1].split(',')[1].strip()\n",
        "\n",
        "# Display the information\n",
        "print(f\"Processor: {processor}\")\n",
        "print(f\"Number of Cores: {core_count}\")\n",
        "print(f\"CPU Speed: {cpu_speed} MHz\")\n",
        "print(f\"RAM: {ram_total / (1024 ** 3):.2f} GB\")\n",
        "print(f\"GPU: {gpu_name} (Driver Version: {gpu_driver_version})\")\n"
      ],
      "metadata": {
        "execution": {
          "iopub.status.busy": "2024-04-10T17:18:26.851468Z",
          "iopub.execute_input": "2024-04-10T17:18:26.851861Z",
          "iopub.status.idle": "2024-04-10T17:18:37.517156Z",
          "shell.execute_reply.started": "2024-04-10T17:18:26.851832Z",
          "shell.execute_reply": "2024-04-10T17:18:37.516240Z"
        },
        "trusted": true,
        "id": "xkeuS_SdJ6yi",
        "outputId": "c834f7e1-b3d9-4d47-e6aa-e6745bcdeb66"
      },
      "execution_count": null,
      "outputs": [
        {
          "name": "stderr",
          "text": "/opt/conda/lib/python3.10/site-packages/scipy/__init__.py:146: UserWarning: A NumPy version >=1.16.5 and <1.23.0 is required for this version of SciPy (detected version 1.24.3\n  warnings.warn(f\"A NumPy version >={np_minversion} and <{np_maxversion}\"\n",
          "output_type": "stream"
        },
        {
          "name": "stdout",
          "text": "Processor: x86_64\nNumber of Cores: 2\nCPU Speed: 2000.15 MHz\nRAM: 31.36 GB\nGPU: Tesla P100-PCIE-16GB (Driver Version: 535.129.03)\n",
          "output_type": "stream"
        }
      ]
    },
    {
      "cell_type": "code",
      "source": [
        "import torch\n",
        "from torch import cuda\n",
        "import time\n",
        "import pandas as pd\n",
        "import numpy as np\n",
        "import random"
      ],
      "metadata": {
        "execution": {
          "iopub.status.busy": "2024-04-10T17:18:37.518988Z",
          "iopub.execute_input": "2024-04-10T17:18:37.519997Z",
          "iopub.status.idle": "2024-04-10T17:18:40.278978Z",
          "shell.execute_reply.started": "2024-04-10T17:18:37.519956Z",
          "shell.execute_reply": "2024-04-10T17:18:40.278214Z"
        },
        "trusted": true,
        "id": "rUeQKToTJ6yi"
      },
      "execution_count": null,
      "outputs": []
    },
    {
      "cell_type": "code",
      "source": [
        "import torch\n",
        "from transformers import AutoTokenizer, AutoModelForCausalLM, BitsAndBytesConfig\n",
        "import transformers\n",
        "\n",
        "model_id = '/kaggle/input/llama-2/pytorch/7b-chat-hf/1'\n",
        "\n",
        "device = f'cuda:{cuda.current_device()}' if cuda.is_available() else 'cpu'\n",
        "\n",
        "bnb_config = BitsAndBytesConfig(\n",
        "    load_in_4bit=True,\n",
        "    bnb_4bit_use_double_quant=True,\n",
        "    bnb_4bit_quant_type=\"nf4\",\n",
        "    bnb_4bit_compute_dtype=torch.bfloat16\n",
        ")\n",
        "\n",
        "model = AutoModelForCausalLM.from_pretrained(model_id, quantization_config=bnb_config, device_map=\"auto\")\n",
        "\n",
        "tokenizer = AutoTokenizer.from_pretrained(model_id)\n",
        "tokenizer.pad_token = tokenizer.eos_token\n",
        "tokenizer.padding_side = \"right\"\n",
        "\n",
        "print(f\"Model loaded on {device}\")"
      ],
      "metadata": {
        "execution": {
          "iopub.status.busy": "2024-04-10T17:20:18.298948Z",
          "iopub.execute_input": "2024-04-10T17:20:18.299299Z",
          "iopub.status.idle": "2024-04-10T17:23:16.359512Z",
          "shell.execute_reply.started": "2024-04-10T17:20:18.299270Z",
          "shell.execute_reply": "2024-04-10T17:23:16.358571Z"
        },
        "trusted": true,
        "colab": {
          "referenced_widgets": [
            "74a5d911049d488dbd350bf399d1d5da"
          ]
        },
        "id": "puaSS19bJ6yj",
        "outputId": "6a113fb9-6374-4d8c-be86-9d01179db5c4"
      },
      "execution_count": null,
      "outputs": [
        {
          "output_type": "display_data",
          "data": {
            "text/plain": "Loading checkpoint shards:   0%|          | 0/2 [00:00<?, ?it/s]",
            "application/vnd.jupyter.widget-view+json": {
              "version_major": 2,
              "version_minor": 0,
              "model_id": "74a5d911049d488dbd350bf399d1d5da"
            }
          },
          "metadata": {}
        },
        {
          "name": "stderr",
          "text": "/opt/conda/lib/python3.10/site-packages/transformers/generation/configuration_utils.py:410: UserWarning: `do_sample` is set to `False`. However, `temperature` is set to `0.9` -- this flag is only used in sample-based generation modes. You should set `do_sample=True` or unset `temperature`. This was detected when initializing the generation config instance, which means the corresponding file may hold incorrect parameterization and should be fixed.\n  warnings.warn(\n/opt/conda/lib/python3.10/site-packages/transformers/generation/configuration_utils.py:415: UserWarning: `do_sample` is set to `False`. However, `top_p` is set to `0.6` -- this flag is only used in sample-based generation modes. You should set `do_sample=True` or unset `top_p`. This was detected when initializing the generation config instance, which means the corresponding file may hold incorrect parameterization and should be fixed.\n  warnings.warn(\n/opt/conda/lib/python3.10/site-packages/transformers/generation/configuration_utils.py:410: UserWarning: `do_sample` is set to `False`. However, `temperature` is set to `0.9` -- this flag is only used in sample-based generation modes. You should set `do_sample=True` or unset `temperature`.\n  warnings.warn(\n/opt/conda/lib/python3.10/site-packages/transformers/generation/configuration_utils.py:415: UserWarning: `do_sample` is set to `False`. However, `top_p` is set to `0.6` -- this flag is only used in sample-based generation modes. You should set `do_sample=True` or unset `top_p`.\n  warnings.warn(\n",
          "output_type": "stream"
        },
        {
          "name": "stdout",
          "text": "Model loaded on cuda:0\n",
          "output_type": "stream"
        }
      ]
    },
    {
      "cell_type": "code",
      "source": [
        "max_seq_length_1 = tokenizer.model_max_length\n",
        "\n",
        "print(\"Maximum Sequence Length:\", max_seq_length_1)"
      ],
      "metadata": {
        "execution": {
          "iopub.status.busy": "2024-04-10T17:42:49.469217Z",
          "iopub.execute_input": "2024-04-10T17:42:49.469689Z",
          "iopub.status.idle": "2024-04-10T17:42:49.475632Z",
          "shell.execute_reply.started": "2024-04-10T17:42:49.469640Z",
          "shell.execute_reply": "2024-04-10T17:42:49.474532Z"
        },
        "trusted": true,
        "id": "dWWsKWfOJ6yj",
        "outputId": "56eda9ff-a083-40b2-c646-f8428cc766e3"
      },
      "execution_count": null,
      "outputs": [
        {
          "name": "stdout",
          "text": "Maximum Sequence Length: 1000000000000000019884624838656\n",
          "output_type": "stream"
        }
      ]
    },
    {
      "cell_type": "code",
      "source": [
        "model.config"
      ],
      "metadata": {
        "execution": {
          "iopub.status.busy": "2024-04-10T17:47:38.099508Z",
          "iopub.execute_input": "2024-04-10T17:47:38.100454Z",
          "iopub.status.idle": "2024-04-10T17:47:38.109730Z",
          "shell.execute_reply.started": "2024-04-10T17:47:38.100408Z",
          "shell.execute_reply": "2024-04-10T17:47:38.108575Z"
        },
        "trusted": true,
        "id": "UkLx16-lJ6yj",
        "outputId": "4c39d71c-1738-4b2d-d81c-048cda448da7"
      },
      "execution_count": null,
      "outputs": [
        {
          "execution_count": 14,
          "output_type": "execute_result",
          "data": {
            "text/plain": "LlamaConfig {\n  \"_name_or_path\": \"/kaggle/input/llama-2/pytorch/7b-chat-hf/1\",\n  \"architectures\": [\n    \"LlamaForCausalLM\"\n  ],\n  \"attention_bias\": false,\n  \"attention_dropout\": 0.0,\n  \"bos_token_id\": 1,\n  \"eos_token_id\": 2,\n  \"hidden_act\": \"silu\",\n  \"hidden_size\": 4096,\n  \"initializer_range\": 0.02,\n  \"intermediate_size\": 11008,\n  \"max_length\": 4096,\n  \"max_position_embeddings\": 2048,\n  \"model_type\": \"llama\",\n  \"num_attention_heads\": 32,\n  \"num_hidden_layers\": 32,\n  \"num_key_value_heads\": 32,\n  \"pad_token_id\": 0,\n  \"pretraining_tp\": 1,\n  \"quantization_config\": {\n    \"_load_in_4bit\": true,\n    \"_load_in_8bit\": false,\n    \"bnb_4bit_compute_dtype\": \"bfloat16\",\n    \"bnb_4bit_quant_type\": \"nf4\",\n    \"bnb_4bit_use_double_quant\": true,\n    \"llm_int8_enable_fp32_cpu_offload\": false,\n    \"llm_int8_has_fp16_weight\": false,\n    \"llm_int8_skip_modules\": null,\n    \"llm_int8_threshold\": 6.0,\n    \"load_in_4bit\": true,\n    \"load_in_8bit\": false,\n    \"quant_method\": \"bitsandbytes\"\n  },\n  \"rms_norm_eps\": 1e-05,\n  \"rope_scaling\": null,\n  \"rope_theta\": 10000.0,\n  \"tie_word_embeddings\": false,\n  \"torch_dtype\": \"float16\",\n  \"transformers_version\": \"4.38.0\",\n  \"use_cache\": true,\n  \"vocab_size\": 32000\n}"
          },
          "metadata": {}
        }
      ]
    },
    {
      "cell_type": "code",
      "source": [
        "special_tokens = tokenizer.special_tokens_map\n",
        "print(special_tokens)"
      ],
      "metadata": {
        "execution": {
          "iopub.status.busy": "2024-04-10T17:49:05.946978Z",
          "iopub.execute_input": "2024-04-10T17:49:05.947371Z",
          "iopub.status.idle": "2024-04-10T17:49:05.952688Z",
          "shell.execute_reply.started": "2024-04-10T17:49:05.947340Z",
          "shell.execute_reply": "2024-04-10T17:49:05.951741Z"
        },
        "trusted": true,
        "id": "Jwa5hrSmJ6yj",
        "outputId": "6f7b3b3f-0366-4b99-bd1b-cf66dd6b4c87"
      },
      "execution_count": null,
      "outputs": [
        {
          "name": "stdout",
          "text": "{'bos_token': '<s>', 'eos_token': '</s>', 'unk_token': '<unk>', 'pad_token': '</s>'}\n",
          "output_type": "stream"
        }
      ]
    },
    {
      "cell_type": "markdown",
      "source": [
        "### Dataset Loading & Preprocessing"
      ],
      "metadata": {
        "id": "d-DveMJtJ6yk"
      }
    },
    {
      "cell_type": "code",
      "source": [
        "file_path_1 = \"/kaggle/input/finance-bench-dataset/10_labels.csv\"\n",
        "file_path_2 = \"/kaggle/input/finance-bench-dataset/syntheses_10.csv\"\n",
        "Model_Generated_Data = pd.read_csv(file_path_1)\n",
        "Finance_data = pd.read_csv(file_path_2)"
      ],
      "metadata": {
        "execution": {
          "iopub.status.busy": "2024-04-23T20:11:23.992849Z",
          "iopub.execute_input": "2024-04-23T20:11:23.993762Z",
          "iopub.status.idle": "2024-04-23T20:11:24.316402Z",
          "shell.execute_reply.started": "2024-04-23T20:11:23.993727Z",
          "shell.execute_reply": "2024-04-23T20:11:24.315204Z"
        },
        "trusted": true,
        "id": "bylYfJJUJ6yk"
      },
      "execution_count": null,
      "outputs": []
    },
    {
      "cell_type": "code",
      "source": [
        "# Reduce Finance_data to the first 50 rows\n",
        "Finance_Reduced = Finance_data.head(50)"
      ],
      "metadata": {
        "trusted": true,
        "id": "siiCaV7MJ6yl"
      },
      "execution_count": null,
      "outputs": []
    },
    {
      "cell_type": "markdown",
      "source": [
        "# Zero Shot Prompt Engineering"
      ],
      "metadata": {
        "id": "4VfEp_NDJ6yl"
      }
    },
    {
      "cell_type": "code",
      "source": [
        "template =\"\"\"\n",
        "<s>[INST] <<SYS>>\n",
        "You are a financial chatbot trained to answer questions based on the information provided.\n",
        "Your responses should be directly sourced from the content of these evidence_text(context).\n",
        "When asked a question, ensure that your answer is explicitly supported by the text and do not\n",
        "include any external information, interpretations, or assumptions not clearly stated in the evidence_text(context).\n",
        "If a question pertains to financial data or analysis that is not explicitly covered in the evidence_text(context) provided,\n",
        "respond by stating that the information is not available in the evidence_text(context).\n",
        "Your primary focus should be on accuracy, specificity, and adherence to the information in the evidence_text(context),\n",
        "particularly regarding financial statements, company performance, and market positions.\n",
        "\n",
        "Here is the question:\n",
        "{question}\n",
        "\n",
        "Consider the provided text as evidence:\n",
        "{evidence_text}\n",
        "[/INST]\n",
        "\n",
        "\"\"\"\n",
        "\n",
        "syntheses_with_llama = []\n",
        "\n",
        "for idx, row in Finance_Reduced.iterrows():\n",
        "    question = row['question']\n",
        "    evidence_text = row['evidence_text']\n",
        "\n",
        "  # Construct prompt with context\n",
        "    prompt = template.format(question=question, evidence_text=evidence_text)\n",
        "    #print(prompt)\n",
        "\n",
        "    # Tokenize the prompt\n",
        "    inputs = tokenizer(prompt, return_tensors=\"pt\")\n",
        "\n",
        "    # Generate response\n",
        "    output = model.generate(input_ids=inputs[\"input_ids\"], max_new_tokens=100)\n",
        "\n",
        "    # Decode the response\n",
        "    generated_text = tokenizer.decode(output[0], skip_special_tokens=True)\n",
        "\n",
        "    #Finding Extracted Answer\n",
        "    answer_start = generated_text.find(\"[/INST]\") + len(\"[/INST]\")  # Find the end of </INST> tag\n",
        "    answer = generated_text[answer_start:]  # Extract everything after that position\n",
        "    syntheses_with_llama.append(answer)\n",
        "    #print(answer)\n",
        "\n",
        "    #Comparing the answer with the base answer\n",
        "    dash_line = '-'.join('' for x in range(100))\n",
        "    Answer = Finance_Reduced.loc[idx, 'answer']\n",
        "#     print(f'BASELINE HUMAN ANSWER:\\n{Answer}\\n')\n",
        "#     print(dash_line)\n",
        "#     print(f'MODEL GENERATION - ZERO SHOT:\\n{answer}')\n",
        "#     print(dash_line)\n",
        "\n",
        "#Appending it to main file\n",
        "Finance_Reduced['Generated_BY_LLAMA2'] = syntheses_with_llama"
      ],
      "metadata": {
        "trusted": true,
        "id": "wpZn81mRJ6yl"
      },
      "execution_count": null,
      "outputs": []
    },
    {
      "cell_type": "code",
      "source": [
        "Finance_Reduced.head()"
      ],
      "metadata": {
        "trusted": true,
        "id": "chEZiDx0J6yl"
      },
      "execution_count": null,
      "outputs": []
    },
    {
      "cell_type": "code",
      "source": [
        "from IPython.display import FileLink\n",
        "Zero_Shot_Finance_Reduced_50 = Finance_Reduced.rename(columns={'question': 'question', 'answer': 'answer', 'evidence_text': 'evidence_text', 'syntheses': 'syntheses', 'Generated_BY_LLAMA2': 'Generated_BY_LLAMA2'})\n",
        "Zero_Shot_Finance_Reduced_50.to_csv('Zero_Shot_Finance_Reduced_50.csv', index=False)\n",
        "FileLink('Zero_Shot_Finance_Reduced_50.csv')"
      ],
      "metadata": {
        "trusted": true,
        "id": "wtv4Zo0uJ6yl"
      },
      "execution_count": null,
      "outputs": []
    },
    {
      "cell_type": "markdown",
      "source": [
        "### Test zero shot"
      ],
      "metadata": {
        "id": "lUQE_cK_J6yl"
      }
    },
    {
      "cell_type": "code",
      "source": [
        "import pandas as pd\n",
        "\n",
        "file_path_3 = \"/kaggle/input/zero-shot-finance-reduced-50/Zero_Shot_Finance_Reduced_50.csv\"\n",
        "zero_shot_test = pd.read_csv(file_path_3)\n",
        "zero_shot_test.head()"
      ],
      "metadata": {
        "execution": {
          "iopub.status.busy": "2024-04-23T20:11:59.788512Z",
          "iopub.execute_input": "2024-04-23T20:11:59.789191Z",
          "iopub.status.idle": "2024-04-23T20:12:00.129876Z",
          "shell.execute_reply.started": "2024-04-23T20:11:59.789157Z",
          "shell.execute_reply": "2024-04-23T20:12:00.128702Z"
        },
        "trusted": true,
        "id": "tQNOj9mfJ6ym",
        "outputId": "05609daa-b5af-4964-e25a-d35845068231"
      },
      "execution_count": null,
      "outputs": [
        {
          "execution_count": 9,
          "output_type": "execute_result",
          "data": {
            "text/plain": "                                            question  \\\n0  What is the FY2018 capital expenditure amount ...   \n1  Assume that you are a public equities analyst....   \n2  Is 3M a capital-intensive business based on FY...   \n3  What drove operating margin change as of FY202...   \n4  If we exclude the impact of M&A, which segment...   \n\n                                              answer  \\\n0                                           $1577.00   \n1                                              $8.70   \n2  No, the company is managing its CAPEX and Fixe...   \n3  Operating Margin for 3M in FY2022 has decrease...   \n4   The consumer segment shrunk by 0.9% organically.   \n\n                                       evidence_text  \\\n0  Table of Contents \\n3M Company and Subsidiarie...   \n1  Table of Contents \\n3M Company and Subsidiarie...   \n2  3M Company and Subsidiaries\\n Consolidated Sta...   \n3  SG&A, measured as a percent of sales, increase...   \n4  Worldwide Sales Change\\nBy Business Segment Or...   \n\n                                           syntheses  \\\n0                          <answer> $1,577 </answer>   \n1                          <answer> $8.738 </answer>   \n2   <answer> No, 3M does not seem to be a capital...   \n3   <answer> Operating Margin for 3M in FY2022 ha...   \n4   <answer> The consumer segment shrunk by 0.9% ...   \n\n                                 Generated_BY_LLAMA2  \n0  \\n\\nBased on the information provided in the c...  \n1  \\n\\nBased on the information provided in the b...  \n2  \\n\\nBased on the provided evidence, the answer...  \n3  \\n\\nBased on the provided evidence text, the o...  \n4  \\n\\nBased on the provided evidence text, the a...  ",
            "text/html": "<div>\n<style scoped>\n    .dataframe tbody tr th:only-of-type {\n        vertical-align: middle;\n    }\n\n    .dataframe tbody tr th {\n        vertical-align: top;\n    }\n\n    .dataframe thead th {\n        text-align: right;\n    }\n</style>\n<table border=\"1\" class=\"dataframe\">\n  <thead>\n    <tr style=\"text-align: right;\">\n      <th></th>\n      <th>question</th>\n      <th>answer</th>\n      <th>evidence_text</th>\n      <th>syntheses</th>\n      <th>Generated_BY_LLAMA2</th>\n    </tr>\n  </thead>\n  <tbody>\n    <tr>\n      <th>0</th>\n      <td>What is the FY2018 capital expenditure amount ...</td>\n      <td>$1577.00</td>\n      <td>Table of Contents \\n3M Company and Subsidiarie...</td>\n      <td>&lt;answer&gt; $1,577 &lt;/answer&gt;</td>\n      <td>\\n\\nBased on the information provided in the c...</td>\n    </tr>\n    <tr>\n      <th>1</th>\n      <td>Assume that you are a public equities analyst....</td>\n      <td>$8.70</td>\n      <td>Table of Contents \\n3M Company and Subsidiarie...</td>\n      <td>&lt;answer&gt; $8.738 &lt;/answer&gt;</td>\n      <td>\\n\\nBased on the information provided in the b...</td>\n    </tr>\n    <tr>\n      <th>2</th>\n      <td>Is 3M a capital-intensive business based on FY...</td>\n      <td>No, the company is managing its CAPEX and Fixe...</td>\n      <td>3M Company and Subsidiaries\\n Consolidated Sta...</td>\n      <td>&lt;answer&gt; No, 3M does not seem to be a capital...</td>\n      <td>\\n\\nBased on the provided evidence, the answer...</td>\n    </tr>\n    <tr>\n      <th>3</th>\n      <td>What drove operating margin change as of FY202...</td>\n      <td>Operating Margin for 3M in FY2022 has decrease...</td>\n      <td>SG&amp;A, measured as a percent of sales, increase...</td>\n      <td>&lt;answer&gt; Operating Margin for 3M in FY2022 ha...</td>\n      <td>\\n\\nBased on the provided evidence text, the o...</td>\n    </tr>\n    <tr>\n      <th>4</th>\n      <td>If we exclude the impact of M&amp;A, which segment...</td>\n      <td>The consumer segment shrunk by 0.9% organically.</td>\n      <td>Worldwide Sales Change\\nBy Business Segment Or...</td>\n      <td>&lt;answer&gt; The consumer segment shrunk by 0.9% ...</td>\n      <td>\\n\\nBased on the provided evidence text, the a...</td>\n    </tr>\n  </tbody>\n</table>\n</div>"
          },
          "metadata": {}
        }
      ]
    },
    {
      "cell_type": "code",
      "source": [
        "from sklearn.metrics.pairwise import cosine_similarity\n",
        "from sklearn.feature_extraction.text import TfidfVectorizer\n",
        "from typing import List\n",
        "import nltk\n",
        "from nltk.tokenize import word_tokenize\n",
        "from nltk.corpus import stopwords"
      ],
      "metadata": {
        "execution": {
          "iopub.status.busy": "2024-04-23T20:12:02.415356Z",
          "iopub.execute_input": "2024-04-23T20:12:02.416018Z",
          "iopub.status.idle": "2024-04-23T20:12:02.420538Z",
          "shell.execute_reply.started": "2024-04-23T20:12:02.415989Z",
          "shell.execute_reply": "2024-04-23T20:12:02.419547Z"
        },
        "trusted": true,
        "id": "_iMhO6tbJ6ym"
      },
      "execution_count": null,
      "outputs": []
    },
    {
      "cell_type": "code",
      "source": [
        "def compute_rouge_l(candidate, reference):\n",
        "    m, n = len(candidate), len(reference)\n",
        "    #print(m,n)\n",
        "    dp_table = [[0] * (n + 1) for _ in range(m + 1)]\n",
        "\n",
        "    for i in range(1, m + 1):\n",
        "        for j in range(1, n + 1):\n",
        "            if candidate[i - 1] == reference[j - 1]:\n",
        "                dp_table[i][j] = dp_table[i - 1][j - 1] + 1\n",
        "            else:\n",
        "                dp_table[i][j] = max(dp_table[i - 1][j], dp_table[i][j - 1])\n",
        "\n",
        "    return dp_table[m][n] / n"
      ],
      "metadata": {
        "execution": {
          "iopub.status.busy": "2024-04-23T20:12:03.114332Z",
          "iopub.execute_input": "2024-04-23T20:12:03.115050Z",
          "iopub.status.idle": "2024-04-23T20:12:03.121853Z",
          "shell.execute_reply.started": "2024-04-23T20:12:03.115017Z",
          "shell.execute_reply": "2024-04-23T20:12:03.120887Z"
        },
        "trusted": true,
        "id": "VJdgP-F3J6ym"
      },
      "execution_count": null,
      "outputs": []
    },
    {
      "cell_type": "code",
      "source": [
        "nltk.download('stopwords')"
      ],
      "metadata": {
        "execution": {
          "iopub.status.busy": "2024-04-23T20:12:03.438232Z",
          "iopub.execute_input": "2024-04-23T20:12:03.438536Z",
          "iopub.status.idle": "2024-04-23T20:12:03.445005Z",
          "shell.execute_reply.started": "2024-04-23T20:12:03.438510Z",
          "shell.execute_reply": "2024-04-23T20:12:03.444091Z"
        },
        "trusted": true,
        "id": "t6VCqkOMJ6ym",
        "outputId": "7fcf6e6b-4b3a-490c-8f5a-6450e68694fc"
      },
      "execution_count": null,
      "outputs": [
        {
          "name": "stdout",
          "text": "[nltk_data] Downloading package stopwords to /usr/share/nltk_data...\n[nltk_data]   Package stopwords is already up-to-date!\n",
          "output_type": "stream"
        },
        {
          "execution_count": 13,
          "output_type": "execute_result",
          "data": {
            "text/plain": "True"
          },
          "metadata": {}
        }
      ]
    },
    {
      "cell_type": "code",
      "source": [
        "def preprocess_text(text):\n",
        "    # Tokenize the text\n",
        "    tokens = word_tokenize(text.lower())\n",
        "\n",
        "    # Remove stopwords\n",
        "    stop_words = set(stopwords.words('english'))\n",
        "    filtered_tokens = [word for word in tokens if word not in stop_words]\n",
        "\n",
        "    return filtered_tokens"
      ],
      "metadata": {
        "execution": {
          "iopub.status.busy": "2024-04-23T20:12:04.070286Z",
          "iopub.execute_input": "2024-04-23T20:12:04.070654Z",
          "iopub.status.idle": "2024-04-23T20:12:04.075829Z",
          "shell.execute_reply.started": "2024-04-23T20:12:04.070620Z",
          "shell.execute_reply": "2024-04-23T20:12:04.074927Z"
        },
        "trusted": true,
        "id": "VBilMNHeJ6ym"
      },
      "execution_count": null,
      "outputs": []
    },
    {
      "cell_type": "code",
      "source": [
        "def compute_similarity_score(answer,syntheses):\n",
        "    tokens_answer = preprocess_text(answer)\n",
        "    tokens_syntheses = preprocess_text(syntheses)\n",
        "    str_answer = ' '.join(tokens_answer)\n",
        "    str_syntheses = ' '.join(tokens_syntheses)\n",
        "    freqdist_answer = nltk.FreqDist(str_answer.split())\n",
        "    freqdist_syntheses = nltk.FreqDist(str_syntheses.split())\n",
        "    # Extract frequencies for unique tokens in both texts\n",
        "    unique_tokens = set(freqdist_answer.keys()).union(freqdist_syntheses.keys())\n",
        "\n",
        "    freq_answer = [freqdist_answer[token] for token in unique_tokens]\n",
        "    freq_syntheses = [freqdist_syntheses[token] for token in unique_tokens]\n",
        "\n",
        "    vector_answer = np.array(freq_answer).reshape(1, -1)\n",
        "    vector_syntheses = np.array(freq_syntheses).reshape(1, -1)\n",
        "\n",
        "    similarity_score = cosine_similarity(vector_answer, vector_syntheses)[0][0]\n",
        "\n",
        "    return similarity_score"
      ],
      "metadata": {
        "execution": {
          "iopub.status.busy": "2024-04-23T20:12:04.296687Z",
          "iopub.execute_input": "2024-04-23T20:12:04.296970Z",
          "iopub.status.idle": "2024-04-23T20:12:04.304433Z",
          "shell.execute_reply.started": "2024-04-23T20:12:04.296945Z",
          "shell.execute_reply": "2024-04-23T20:12:04.303584Z"
        },
        "trusted": true,
        "id": "bAgygSGlJ6ym"
      },
      "execution_count": null,
      "outputs": []
    },
    {
      "cell_type": "code",
      "source": [
        "import numpy as np\n",
        "\n",
        "tfidf_vectorizer = TfidfVectorizer\n",
        "\n",
        "total_average_rouge_l_scores = []\n",
        "total_average_cosine_similarity_scores  = []\n",
        "\n",
        "num_labels = []\n",
        "count = 0\n",
        "\n",
        "for i in range(5):\n",
        "    count += 10\n",
        "    num_labels.append(count)\n",
        "    #print(num_labels)\n",
        "    df = zero_shot_test.head(count)\n",
        "    #print(len(df))\n",
        "\n",
        "    rouge_l_scores = []\n",
        "    cosine_similarity_scores = []\n",
        "\n",
        "    for idx, row in df.iterrows():\n",
        "        answer = row['answer']\n",
        "        syntheses = row['Generated_BY_LLAMA2']\n",
        "\n",
        "\n",
        "\n",
        "        compute_sim_score = compute_similarity_score(answer,syntheses)\n",
        "        cosine_similarity_scores.append(compute_sim_score)\n",
        "\n",
        "\n",
        "\n",
        "\n",
        "        rouge_l_score = compute_rouge_l(answer, syntheses)\n",
        "        rouge_l_scores.append(rouge_l_score)\n",
        "\n",
        "\n",
        "    total_average_cosine_similarity_score = sum(cosine_similarity_scores) / len(cosine_similarity_scores)\n",
        "    total_average_cosine_similarity_scores.append(total_average_cosine_similarity_score)\n",
        "\n",
        "\n",
        "    total_average_rouge_l_score = sum(rouge_l_scores)/len(rouge_l_scores)\n",
        "    total_average_rouge_l_scores.append(total_average_rouge_l_score)\n",
        "\n",
        "    #print(total_average_cosine_similarity_scores)\n",
        "    #print(total_average_rouge_l_scores)"
      ],
      "metadata": {
        "execution": {
          "iopub.status.busy": "2024-04-23T20:12:30.165274Z",
          "iopub.execute_input": "2024-04-23T20:12:30.165983Z",
          "iopub.status.idle": "2024-04-23T20:12:32.988356Z",
          "shell.execute_reply.started": "2024-04-23T20:12:30.165952Z",
          "shell.execute_reply": "2024-04-23T20:12:32.987584Z"
        },
        "trusted": true,
        "id": "R0lef0mxJ6ym"
      },
      "execution_count": null,
      "outputs": []
    },
    {
      "cell_type": "code",
      "source": [
        "import matplotlib.pyplot as plt\n",
        "import numpy as np\n",
        "from matplotlib import cm\n",
        "\n",
        "plt.figure(figsize=(20, 5))\n",
        "\n",
        "# Plot Accuracy\n",
        "#plt.subplot(1, 3, 1)\n",
        "plt.plot(num_labels, total_average_rouge_l_scores, marker='o', linestyle='-', color='skyblue', linewidth=2)\n",
        "\n",
        "plt.xlabel('Number of Labels')\n",
        "plt.ylabel('Total Average ROUGE-L Score')\n",
        "plt.title(' After Fine-Tuning ROUGE-L Score Comparison')\n",
        "\n",
        "plt.subplot(1, 3, 2)\n",
        "plt.plot(num_labels, total_average_cosine_similarity_scores, marker='o', linestyle='-', color='skyblue', linewidth=2)\n",
        "plt.xlabel('Number of Labels')\n",
        "plt.ylabel('Total Average Cosine Similarity Score')\n",
        "plt.title(' After Fine-Tuning Cosine Similarity Score')"
      ],
      "metadata": {
        "execution": {
          "iopub.status.busy": "2024-04-23T20:12:51.989109Z",
          "iopub.execute_input": "2024-04-23T20:12:51.989447Z",
          "iopub.status.idle": "2024-04-23T20:12:52.369504Z",
          "shell.execute_reply.started": "2024-04-23T20:12:51.989422Z",
          "shell.execute_reply": "2024-04-23T20:12:52.368516Z"
        },
        "trusted": true,
        "id": "d43KyU1XJ6yn",
        "outputId": "610ae0f8-350a-40a9-e76a-4f190b785815"
      },
      "execution_count": null,
      "outputs": [
        {
          "execution_count": 18,
          "output_type": "execute_result",
          "data": {
            "text/plain": "Text(0.5, 1.0, ' After Fine-Tuning ROUGE-L Score Comparison')"
          },
          "metadata": {}
        },
        {
          "output_type": "display_data",
          "data": {
            "text/plain": "<Figure size 2000x500 with 1 Axes>",
            "image/png": "[encoded data removed]"
          },
          "metadata": {}
        }
      ]
    },
    {
      "cell_type": "markdown",
      "source": [
        "### Zero Shot test Finished"
      ],
      "metadata": {
        "id": "8GsfdMnLJ6yn"
      }
    },
    {
      "cell_type": "markdown",
      "source": [
        "# Few shot Prompt Engineering"
      ],
      "metadata": {
        "id": "q9ZVgs9lJ6yn"
      }
    },
    {
      "cell_type": "code",
      "source": [
        "template =\"\"\"\n",
        "<s>[INST] <<SYS>>\n",
        "You are a financial chatbot trained to answer questions based on the information provided.\n",
        "Your responses should be directly sourced from the content of these evidence_text(context).\n",
        "When asked a question, ensure that your answer is explicitly supported by the text and do not\n",
        "include any external information, interpretations, or assumptions not clearly stated in the evidence_text(context).\n",
        "If a question pertains to financial data or analysis that is not explicitly covered in the evidence_text(context) provided,\n",
        "respond by stating that the information is not available in the evidence_text(context).\n",
        "Your primary focus should be on accuracy, specificity, and adherence to the information in the evidence_text(context),\n",
        "particularly regarding financial statements, company performance, and market positions.\n",
        "<</SYS>>\n",
        "\n",
        "Here are some sample Questions, evidence text and answers.\n",
        "\n",
        "question 1: Was there any drop in Cash & Cash equivalents between FY 2023 and Q2 of FY2024?\n",
        "evidence_text 1: July 29, 2023 January 28, 2023 July 30, 2022 Cash and cash equivalents $ 1,093 $ 1,874 $ 840\n",
        "answer 1: Yes, there was a decline of ~42% between FY2023 and Q2 of FY 2024.\n",
        "\n",
        "question 2: We need to calculate a financial metric by using information only provided within the balance sheet. Please answer the following question: what is Boeing's year end FY2018 net property, plant, and equipment (in USD millions)?\n",
        "evidence_text 2: Table of Contents The Boeing Company and Subsidiaries Consolidated Statements of Financial Position   (Dollars in millions, except per share data)       December 31, 2018   2017 Assets       Cash and cash equivalents $7,637   $8,813 Short-term and other investments 927   1,179 Accounts receivable, net 3,879   2,894 Unbilled receivables, net 10,025   8,194 Current portion of customer financing, net 460   309 Inventories 62,567   61,388 Other current assets 2,335   2,417 Total current assets 87,830   85,194 Customer financing, net 2,418   2,756 Property, plant and equipment, net 12,645   12,672 Goodwill 7,840   5,559 Acquired intangible assets, net 3,429   2,573 Deferred income taxes 284   321 Investments 1,087   1,260 Other assets, net of accumulated amortization of $503 and $482 1,826   2,027 Total assets $117,359   $112,362 Liabilities and equity       Accounts payable $12,916   $12,202 Accrued liabilities 14,808   13,069 Advances and progress billings 50,676   48,042 Short-term debt and current portion of long-term debt 3,190   1,335 Total current liabilities 81,590   74,648 Deferred income taxes 1,736   2,188 Accrued retiree health care 4,584   5,545 Accrued pension plan liability, net 15,323   16,471 Other long-term liabilities 3,059   2,015 Long-term debt 10,657   9,782 Shareholders’ equity:       Common stock, par value $5.00 – 1,200,000,000 shares authorized; 1,012,261,159 shares issued 5,061   5,061 Additional paid-in capital 6,768   6,804 Treasury stock, at cost (52,348)   (43,454) Retained earnings 55,941   49,618 Accumulated other comprehensive loss (15,083)   (16,373) Total shareholders’ equity 339   1,656 Noncontrolling interests 71   57 Total equity 410   1,713 Total liabilities and equity $117,359   $112,362 See Notes to the Consolidated Financial Statements on pages 54 – 113 . 50\n",
        "answer 2: $12645.00\n",
        "\n",
        "question 3: At the Pepsico AGM held on May 3, 2023, what was the outcome of the shareholder vote on the shareholder proposal for a congruency report by Pepsico on net-zero emissions policies?\n",
        "evidence_text 3: (8) The shareholder proposal regarding a congruency report on net-zero emissions policies was defeated: For 19,718,780 Against 977,228,788\n",
        "answer 3: The shareholder proposal for a congruency report by Pepsico on net-zero emissions policies was defeated.\n",
        "\n",
        "Now give answer to questions provided below from the evidence text.\n",
        "\n",
        "Here is the question:\n",
        "{question}\n",
        "\n",
        "Consider the provided text as evidence:\n",
        "{evidence_text}\n",
        "[/INST]\n",
        "\n",
        "\"\"\"\n",
        "\n",
        "syntheses_with_llama = []\n",
        "\n",
        "for idx, row in Finance_Reduced.iterrows():\n",
        "    question = row['question']\n",
        "    evidence_text = row['evidence_text']\n",
        "\n",
        "  # Construct prompt with context\n",
        "    prompt = template.format(question=question, evidence_text=evidence_text)\n",
        "    #print(prompt)\n",
        "\n",
        "    # Tokenize the prompt\n",
        "    inputs = tokenizer(prompt, return_tensors=\"pt\")\n",
        "\n",
        "    # Generate response\n",
        "    output = model.generate(input_ids=inputs[\"input_ids\"], max_new_tokens=100)\n",
        "\n",
        "    # Decode the response\n",
        "    generated_text = tokenizer.decode(output[0], skip_special_tokens=True)\n",
        "\n",
        "    #Finding Extracted Answer\n",
        "    answer_start = generated_text.find(\"[/INST]\") + len(\"[/INST]\")  # Find the end of </INST> tag\n",
        "    answer = generated_text[answer_start:]  # Extract everything after that position\n",
        "    syntheses_with_llama.append(answer)\n",
        "    #print(answer)\n",
        "\n",
        "    #Comparing the answer with the base answer\n",
        "    dash_line = '-'.join('' for x in range(100))\n",
        "    Answer = Finance_Reduced.loc[idx, 'answer']\n",
        "#     print(f'BASELINE HUMAN ANSWER:\\n{Answer}\\n')\n",
        "#     print(dash_line)\n",
        "#     print(f'MODEL GENERATION - ZERO SHOT:\\n{answer}')\n",
        "#     print(dash_line)\n",
        "\n",
        "#Appending it to main file\n",
        "Finance_Reduced['Generated_BY_LLAMA2'] = syntheses_with_llama"
      ],
      "metadata": {
        "trusted": true,
        "id": "jacBEr0_J6yo"
      },
      "execution_count": null,
      "outputs": []
    },
    {
      "cell_type": "code",
      "source": [
        "from IPython.display import FileLink\n",
        "Few_Shot_Finance_Reduced_50 = Finance_Reduced.rename(columns={'question': 'question', 'answer': 'answer', 'evidence_text': 'evidence_text', 'syntheses': 'syntheses', 'Generated_BY_LLAMA2': 'Generated_BY_LLAMA2'})\n",
        "Few_Shot_Finance_Reduced_50.to_csv('Few_Shot_Finance_Reduced_50.csv', index=False)\n",
        "FileLink('Few_Shot_Finance_Reduced_50.csv')"
      ],
      "metadata": {
        "trusted": true,
        "id": "PcenY8EQJ6yo"
      },
      "execution_count": null,
      "outputs": []
    },
    {
      "cell_type": "markdown",
      "source": [
        "### Test Model"
      ],
      "metadata": {
        "id": "xk4cMB-EJ6yo"
      }
    },
    {
      "cell_type": "code",
      "source": [
        "import pandas as pd\n",
        "\n",
        "file_path_4 = \"/kaggle/input/few3-shot-finance-reduced-50/Few_Shot_Finance_Reduced_50.csv\"\n",
        "few_shot_test = pd.read_csv(file_path_4)\n",
        "few_shot_test.head()"
      ],
      "metadata": {
        "execution": {
          "iopub.status.busy": "2024-04-23T18:55:26.120736Z",
          "iopub.execute_input": "2024-04-23T18:55:26.121143Z",
          "iopub.status.idle": "2024-04-23T18:55:26.524678Z",
          "shell.execute_reply.started": "2024-04-23T18:55:26.121096Z",
          "shell.execute_reply": "2024-04-23T18:55:26.523732Z"
        },
        "trusted": true,
        "id": "gr-jcTndJ6yo",
        "outputId": "1e38e9cb-228a-427f-aedb-9bad86c45d56"
      },
      "execution_count": null,
      "outputs": [
        {
          "execution_count": 2,
          "output_type": "execute_result",
          "data": {
            "text/plain": "                                            question  \\\n0  What is the FY2018 capital expenditure amount ...   \n1  Assume that you are a public equities analyst....   \n2  Is 3M a capital-intensive business based on FY...   \n3  What drove operating margin change as of FY202...   \n4  If we exclude the impact of M&A, which segment...   \n\n                                              answer  \\\n0                                           $1577.00   \n1                                              $8.70   \n2  No, the company is managing its CAPEX and Fixe...   \n3  Operating Margin for 3M in FY2022 has decrease...   \n4   The consumer segment shrunk by 0.9% organically.   \n\n                                       evidence_text  \\\n0  Table of Contents \\n3M Company and Subsidiarie...   \n1  Table of Contents \\n3M Company and Subsidiarie...   \n2  3M Company and Subsidiaries\\n Consolidated Sta...   \n3  SG&A, measured as a percent of sales, increase...   \n4  Worldwide Sales Change\\nBy Business Segment Or...   \n\n                                           syntheses  \\\n0                          <answer> $1,577 </answer>   \n1                          <answer> $8.738 </answer>   \n2   <answer> No, 3M does not seem to be a capital...   \n3   <answer> Operating Margin for 3M in FY2022 ha...   \n4   <answer> The consumer segment shrunk by 0.9% ...   \n\n                                 Generated_BY_LLAMA2  \n0  \\n\\nThe FY2018 capital expenditure amount for ...  \n1  \\n\\nBased on the information provided in the b...  \n2  \\n\\nOf course! I'll do my best to provide accu...  \n3  \\n\\nThank you for asking! Based on the evidenc...  \n4  \\n\\nThank you for providing the questions, evi...  ",
            "text/html": "<div>\n<style scoped>\n    .dataframe tbody tr th:only-of-type {\n        vertical-align: middle;\n    }\n\n    .dataframe tbody tr th {\n        vertical-align: top;\n    }\n\n    .dataframe thead th {\n        text-align: right;\n    }\n</style>\n<table border=\"1\" class=\"dataframe\">\n  <thead>\n    <tr style=\"text-align: right;\">\n      <th></th>\n      <th>question</th>\n      <th>answer</th>\n      <th>evidence_text</th>\n      <th>syntheses</th>\n      <th>Generated_BY_LLAMA2</th>\n    </tr>\n  </thead>\n  <tbody>\n    <tr>\n      <th>0</th>\n      <td>What is the FY2018 capital expenditure amount ...</td>\n      <td>$1577.00</td>\n      <td>Table of Contents \\n3M Company and Subsidiarie...</td>\n      <td>&lt;answer&gt; $1,577 &lt;/answer&gt;</td>\n      <td>\\n\\nThe FY2018 capital expenditure amount for ...</td>\n    </tr>\n    <tr>\n      <th>1</th>\n      <td>Assume that you are a public equities analyst....</td>\n      <td>$8.70</td>\n      <td>Table of Contents \\n3M Company and Subsidiarie...</td>\n      <td>&lt;answer&gt; $8.738 &lt;/answer&gt;</td>\n      <td>\\n\\nBased on the information provided in the b...</td>\n    </tr>\n    <tr>\n      <th>2</th>\n      <td>Is 3M a capital-intensive business based on FY...</td>\n      <td>No, the company is managing its CAPEX and Fixe...</td>\n      <td>3M Company and Subsidiaries\\n Consolidated Sta...</td>\n      <td>&lt;answer&gt; No, 3M does not seem to be a capital...</td>\n      <td>\\n\\nOf course! I'll do my best to provide accu...</td>\n    </tr>\n    <tr>\n      <th>3</th>\n      <td>What drove operating margin change as of FY202...</td>\n      <td>Operating Margin for 3M in FY2022 has decrease...</td>\n      <td>SG&amp;A, measured as a percent of sales, increase...</td>\n      <td>&lt;answer&gt; Operating Margin for 3M in FY2022 ha...</td>\n      <td>\\n\\nThank you for asking! Based on the evidenc...</td>\n    </tr>\n    <tr>\n      <th>4</th>\n      <td>If we exclude the impact of M&amp;A, which segment...</td>\n      <td>The consumer segment shrunk by 0.9% organically.</td>\n      <td>Worldwide Sales Change\\nBy Business Segment Or...</td>\n      <td>&lt;answer&gt; The consumer segment shrunk by 0.9% ...</td>\n      <td>\\n\\nThank you for providing the questions, evi...</td>\n    </tr>\n  </tbody>\n</table>\n</div>"
          },
          "metadata": {}
        }
      ]
    },
    {
      "cell_type": "code",
      "source": [
        "tfidf_vectorizer = TfidfVectorizer\n",
        "\n",
        "total_average_rouge_l_scores = []\n",
        "total_average_cosine_similarity_scores  = []\n",
        "\n",
        "num_labels = []\n",
        "count = 0\n",
        "\n",
        "for i in range(5):\n",
        "    count += 10\n",
        "    num_labels.append(count)\n",
        "    #print(num_labels)\n",
        "    df = few_shot_test.head(count)\n",
        "    #print(len(df))\n",
        "\n",
        "    rouge_l_scores = []\n",
        "    cosine_similarity_scores = []\n",
        "\n",
        "    for idx, row in df.iterrows():\n",
        "        answer = row['answer']\n",
        "        syntheses = row['Generated_BY_LLAMA2']\n",
        "\n",
        "\n",
        "\n",
        "        compute_sim_score = compute_similarity_score(answer,syntheses)\n",
        "        cosine_similarity_scores.append(compute_sim_score)\n",
        "\n",
        "\n",
        "\n",
        "\n",
        "        rouge_l_score = compute_rouge_l(answer, syntheses)\n",
        "        rouge_l_scores.append(rouge_l_score)\n",
        "\n",
        "\n",
        "    total_average_cosine_similarity_score = sum(cosine_similarity_scores) / len(cosine_similarity_scores)\n",
        "    total_average_cosine_similarity_scores.append(total_average_cosine_similarity_score)\n",
        "\n",
        "\n",
        "    total_average_rouge_l_score = sum(rouge_l_scores)/len(rouge_l_scores)\n",
        "    total_average_rouge_l_scores.append(total_average_rouge_l_score)\n",
        "\n",
        "    #print(total_average_cosine_similarity_scores)\n",
        "    #print(total_average_rouge_l_scores)"
      ],
      "metadata": {
        "execution": {
          "iopub.status.busy": "2024-04-23T19:11:55.272027Z",
          "iopub.execute_input": "2024-04-23T19:11:55.272442Z",
          "iopub.status.idle": "2024-04-23T19:11:58.202449Z",
          "shell.execute_reply.started": "2024-04-23T19:11:55.272411Z",
          "shell.execute_reply": "2024-04-23T19:11:58.201417Z"
        },
        "trusted": true,
        "id": "Zq0NkoaaJ6yp",
        "outputId": "d2d24035-f23f-4452-ca1a-1b1e8a5ffca7"
      },
      "execution_count": null,
      "outputs": [
        {
          "name": "stdout",
          "text": "[0.22447233515137696]\n[0.1798954722285216]\n[0.22447233515137696, 0.1416691919181023]\n[0.1798954722285216, 0.12417983084408404]\n[0.22447233515137696, 0.1416691919181023, 0.15923868281105982]\n[0.1798954722285216, 0.12417983084408404, 0.1441719938068448]\n[0.22447233515137696, 0.1416691919181023, 0.15923868281105982, 0.17647437884827347]\n[0.1798954722285216, 0.12417983084408404, 0.1441719938068448, 0.1650372368489576]\n[0.22447233515137696, 0.1416691919181023, 0.15923868281105982, 0.17647437884827347, 0.18853668506759116]\n[0.1798954722285216, 0.12417983084408404, 0.1441719938068448, 0.1650372368489576, 0.14975930925269682]\n",
          "output_type": "stream"
        }
      ]
    },
    {
      "cell_type": "code",
      "source": [
        "import matplotlib.pyplot as plt\n",
        "import numpy as np\n",
        "from matplotlib import cm\n",
        "\n",
        "plt.figure(figsize=(20, 5))\n",
        "\n",
        "# Plot Accuracy\n",
        "plt.subplot(1, 3, 1)\n",
        "plt.plot(num_labels, total_average_rouge_l_scores, marker='o', linestyle='-', color='skyblue', linewidth=2)\n",
        "\n",
        "plt.xlabel('Number of Labels')\n",
        "plt.ylabel('Total Average ROUGE-L Score')\n",
        "plt.title(' After Fine-Tuning ROUGE-L Score Comparison')\n",
        "\n",
        "plt.subplot(1, 3, 2)\n",
        "plt.plot(num_labels, total_average_cosine_similarity_scores, marker='o', linestyle='-', color='skyblue', linewidth=2)\n",
        "plt.xlabel('Number of Labels')\n",
        "plt.ylabel('Total Average Cosine Similarity Score')\n",
        "plt.title(' After Fine-Tuning Cosine Similarity Score')"
      ],
      "metadata": {
        "execution": {
          "iopub.status.busy": "2024-04-23T19:10:54.110858Z",
          "iopub.execute_input": "2024-04-23T19:10:54.111233Z",
          "iopub.status.idle": "2024-04-23T19:10:54.349843Z",
          "shell.execute_reply.started": "2024-04-23T19:10:54.111203Z",
          "shell.execute_reply": "2024-04-23T19:10:54.348415Z"
        },
        "trusted": true,
        "id": "SH_tPDwsJ6yp"
      },
      "execution_count": null,
      "outputs": []
    },
    {
      "cell_type": "markdown",
      "source": [
        "### Few Shot Finished"
      ],
      "metadata": {
        "id": "vNa3pfX8J6yp"
      }
    }
  ]
}